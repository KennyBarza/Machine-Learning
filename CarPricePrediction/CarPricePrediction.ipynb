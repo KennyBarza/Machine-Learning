{
 "cells": [
  {
   "cell_type": "code",
   "execution_count": 421,
   "metadata": {
    "id": "zQw6C1JpNiv9"
   },
   "outputs": [],
   "source": [
    "import pandas as pd\n",
    "import numpy as np\n",
    "import matplotlib as mpl\n",
    "import matplotlib.pyplot as plt\n",
    "import seaborn as sns\n",
    "\n",
    "from sklearn.compose import ColumnTransformer\n",
    "from sklearn.datasets import fetch_openml\n",
    "from sklearn.pipeline import Pipeline\n",
    "from sklearn.impute import SimpleImputer\n",
    "from sklearn.preprocessing import StandardScaler, OneHotEncoder\n",
    "from sklearn.linear_model import LogisticRegression\n",
    "from sklearn.model_selection import train_test_split, GridSearchCV\n",
    "from sklearn.linear_model import LinearRegression\n",
    "from sklearn.model_selection import cross_val_score\n",
    "from sklearn.svm import SVR\n",
    "from sklearn.svm import LinearSVR\n",
    "from sklearn.tree import DecisionTreeRegressor\n",
    "from sklearn.ensemble import RandomForestRegressor\n",
    "from sklearn.preprocessing import FunctionTransformer\n",
    "from sklearn.linear_model import Lasso\n",
    "from sklearn.metrics import mean_squared_error\n",
    "from sklearn.model_selection import learning_curve\n",
    "\n",
    "import warnings\n",
    "warnings.filterwarnings(\"ignore\")"
   ]
  },
  {
   "cell_type": "code",
   "execution_count": null,
   "metadata": {
    "colab": {
     "base_uri": "https://localhost:8080/"
    },
    "id": "bHB0VbOlOaHI",
    "outputId": "eb665d9d-519b-464f-d2e8-c09f1e2dff66"
   },
   "outputs": [
    {
     "name": "stdout",
     "output_type": "stream",
     "text": [
      "Mounted at /content/drive/\n"
     ]
    }
   ],
   "source": [
    "drive.mount('/content/drive/')"
   ]
  },
  {
   "cell_type": "code",
   "execution_count": 3,
   "metadata": {
    "id": "Qva65HJfOdjG"
   },
   "outputs": [],
   "source": [
    "df=pd.read_csv(\"cars_train.csv\")"
   ]
  },
  {
   "cell_type": "code",
   "execution_count": 4,
   "metadata": {
    "colab": {
     "base_uri": "https://localhost:8080/",
     "height": 400
    },
    "id": "rcPPotcuOmqZ",
    "outputId": "5e67f97b-0a96-4b9d-a1eb-5389effaa96c"
   },
   "outputs": [
    {
     "data": {
      "text/html": [
       "<div>\n",
       "<style scoped>\n",
       "    .dataframe tbody tr th:only-of-type {\n",
       "        vertical-align: middle;\n",
       "    }\n",
       "\n",
       "    .dataframe tbody tr th {\n",
       "        vertical-align: top;\n",
       "    }\n",
       "\n",
       "    .dataframe thead th {\n",
       "        text-align: right;\n",
       "    }\n",
       "</style>\n",
       "<table border=\"1\" class=\"dataframe\">\n",
       "  <thead>\n",
       "    <tr style=\"text-align: right;\">\n",
       "      <th></th>\n",
       "      <th>id</th>\n",
       "      <th>region</th>\n",
       "      <th>price</th>\n",
       "      <th>year</th>\n",
       "      <th>manufacturer</th>\n",
       "      <th>model</th>\n",
       "      <th>condition</th>\n",
       "      <th>cylinders</th>\n",
       "      <th>fuel</th>\n",
       "      <th>odometer</th>\n",
       "      <th>transmission</th>\n",
       "      <th>drive</th>\n",
       "      <th>type</th>\n",
       "      <th>paint_color</th>\n",
       "      <th>state</th>\n",
       "      <th>lat</th>\n",
       "      <th>long</th>\n",
       "      <th>posting_date</th>\n",
       "    </tr>\n",
       "  </thead>\n",
       "  <tbody>\n",
       "    <tr>\n",
       "      <th>0</th>\n",
       "      <td>7226069143</td>\n",
       "      <td>indianapolis</td>\n",
       "      <td>3495</td>\n",
       "      <td>2005.0</td>\n",
       "      <td>lincoln</td>\n",
       "      <td>lse</td>\n",
       "      <td>good</td>\n",
       "      <td>8 cylinders</td>\n",
       "      <td>gas</td>\n",
       "      <td>181000.0</td>\n",
       "      <td>automatic</td>\n",
       "      <td>rwd</td>\n",
       "      <td>sedan</td>\n",
       "      <td>silver</td>\n",
       "      <td>in</td>\n",
       "      <td>39.640500</td>\n",
       "      <td>-86.311800</td>\n",
       "      <td>2020-11-05T16:19:56-0500</td>\n",
       "    </tr>\n",
       "    <tr>\n",
       "      <th>1</th>\n",
       "      <td>7233322668</td>\n",
       "      <td>medford-ashland</td>\n",
       "      <td>11995</td>\n",
       "      <td>2011.0</td>\n",
       "      <td>subaru</td>\n",
       "      <td>impreza</td>\n",
       "      <td>good</td>\n",
       "      <td>4 cylinders</td>\n",
       "      <td>gas</td>\n",
       "      <td>69408.0</td>\n",
       "      <td>automatic</td>\n",
       "      <td>4wd</td>\n",
       "      <td>wagon</td>\n",
       "      <td>blue</td>\n",
       "      <td>or</td>\n",
       "      <td>45.524894</td>\n",
       "      <td>-122.656061</td>\n",
       "      <td>2020-11-18T15:45:51-0800</td>\n",
       "    </tr>\n",
       "    <tr>\n",
       "      <th>2</th>\n",
       "      <td>7239134076</td>\n",
       "      <td>austin</td>\n",
       "      <td>68990</td>\n",
       "      <td>2016.0</td>\n",
       "      <td>porsche</td>\n",
       "      <td>cayman gts coupe 2d</td>\n",
       "      <td>good</td>\n",
       "      <td>NaN</td>\n",
       "      <td>gas</td>\n",
       "      <td>7923.0</td>\n",
       "      <td>automatic</td>\n",
       "      <td>rwd</td>\n",
       "      <td>coupe</td>\n",
       "      <td>red</td>\n",
       "      <td>tx</td>\n",
       "      <td>30.260000</td>\n",
       "      <td>-97.740000</td>\n",
       "      <td>2020-11-30T02:13:53-0600</td>\n",
       "    </tr>\n",
       "    <tr>\n",
       "      <th>3</th>\n",
       "      <td>7238509078</td>\n",
       "      <td>hawaii</td>\n",
       "      <td>17900</td>\n",
       "      <td>2011.0</td>\n",
       "      <td>bmw</td>\n",
       "      <td>535i</td>\n",
       "      <td>NaN</td>\n",
       "      <td>NaN</td>\n",
       "      <td>gas</td>\n",
       "      <td>50193.0</td>\n",
       "      <td>automatic</td>\n",
       "      <td>NaN</td>\n",
       "      <td>sedan</td>\n",
       "      <td>black</td>\n",
       "      <td>hi</td>\n",
       "      <td>21.293854</td>\n",
       "      <td>-157.837158</td>\n",
       "      <td>2020-11-28T13:57:30-1000</td>\n",
       "    </tr>\n",
       "    <tr>\n",
       "      <th>4</th>\n",
       "      <td>7236364831</td>\n",
       "      <td>daytona beach</td>\n",
       "      <td>9500</td>\n",
       "      <td>2006.0</td>\n",
       "      <td>NaN</td>\n",
       "      <td>mazada miata</td>\n",
       "      <td>excellent</td>\n",
       "      <td>4 cylinders</td>\n",
       "      <td>gas</td>\n",
       "      <td>52864.0</td>\n",
       "      <td>automatic</td>\n",
       "      <td>rwd</td>\n",
       "      <td>convertible</td>\n",
       "      <td>blue</td>\n",
       "      <td>fl</td>\n",
       "      <td>29.172023</td>\n",
       "      <td>-81.027367</td>\n",
       "      <td>2020-11-24T12:48:43-0500</td>\n",
       "    </tr>\n",
       "  </tbody>\n",
       "</table>\n",
       "</div>"
      ],
      "text/plain": [
       "           id           region  price    year manufacturer  \\\n",
       "0  7226069143     indianapolis   3495  2005.0      lincoln   \n",
       "1  7233322668  medford-ashland  11995  2011.0       subaru   \n",
       "2  7239134076           austin  68990  2016.0      porsche   \n",
       "3  7238509078           hawaii  17900  2011.0          bmw   \n",
       "4  7236364831    daytona beach   9500  2006.0          NaN   \n",
       "\n",
       "                 model  condition    cylinders fuel  odometer transmission  \\\n",
       "0                  lse       good  8 cylinders  gas  181000.0    automatic   \n",
       "1              impreza       good  4 cylinders  gas   69408.0    automatic   \n",
       "2  cayman gts coupe 2d       good          NaN  gas    7923.0    automatic   \n",
       "3                 535i        NaN          NaN  gas   50193.0    automatic   \n",
       "4         mazada miata  excellent  4 cylinders  gas   52864.0    automatic   \n",
       "\n",
       "  drive         type paint_color state        lat        long  \\\n",
       "0   rwd        sedan      silver    in  39.640500  -86.311800   \n",
       "1   4wd        wagon        blue    or  45.524894 -122.656061   \n",
       "2   rwd        coupe         red    tx  30.260000  -97.740000   \n",
       "3   NaN        sedan       black    hi  21.293854 -157.837158   \n",
       "4   rwd  convertible        blue    fl  29.172023  -81.027367   \n",
       "\n",
       "               posting_date  \n",
       "0  2020-11-05T16:19:56-0500  \n",
       "1  2020-11-18T15:45:51-0800  \n",
       "2  2020-11-30T02:13:53-0600  \n",
       "3  2020-11-28T13:57:30-1000  \n",
       "4  2020-11-24T12:48:43-0500  "
      ]
     },
     "execution_count": 4,
     "metadata": {},
     "output_type": "execute_result"
    }
   ],
   "source": [
    "df.head()"
   ]
  },
  {
   "cell_type": "markdown",
   "metadata": {
    "id": "x7yZLR5hOyMg"
   },
   "source": [
    "# Baseline System"
   ]
  },
  {
   "cell_type": "markdown",
   "metadata": {
    "id": "cjte_SNKRI1M"
   },
   "source": [
    "In this section, I have chosen the columns that I feel will have a predicition power. Since they consititute the majority, I will be discussing why I dropped certain columns:\n",
    "\n",
    "\n",
    "*   id: This column does not have any predictive power.\n",
    "*   paint_color: Colors should not have any say on the price of a car\n",
    "\n",
    "\n",
    "*   lat and long: These will be dropped since we are keeping the regions and the states\n",
    "\n",
    "The idea behind the script in this section is the following. First, we will be dropping columns that contain more than 30% missing values, as we do not want to be missing a lot of rows. For the categorical variables with less missing values, we will remove the rows with missing values. For the numerical variables, we will be replacing by the median.\n",
    "\n",
    "**The mean of the RMSE in this model is 193999.21 and the standard deviation is 216255.81.**\n",
    "\n",
    "\n"
   ]
  },
  {
   "cell_type": "code",
   "execution_count": null,
   "metadata": {
    "id": "kbYU9juzO5_C"
   },
   "outputs": [],
   "source": [
    "#Choosing the feature that I think have predictor power\n",
    "df_imp=df[[\"price\",\"year\",\"condition\",\"cylinders\",\"fuel\",\"odometer\",\"transmission\",\"drive\",\"type\",\"posting_date\",\"state\",\"region\",\"model\",\"manufacturer\"]]"
   ]
  },
  {
   "cell_type": "code",
   "execution_count": null,
   "metadata": {
    "id": "ZXf-PPf2PDD9"
   },
   "outputs": [],
   "source": [
    "#I will be removing columns with more than 30% nas\n",
    "df_imp = df_imp.loc[:, df_imp.isnull().mean() <= 0.3]\n",
    "#I will be dropping all the Na rows in categorical variables\n",
    "df_imp.dropna(subset=['drive', 'type','transmission','fuel',\"model\",\"manufacturer\"], inplace=True)"
   ]
  },
  {
   "cell_type": "code",
   "execution_count": null,
   "metadata": {
    "id": "VgKmdzGJQ0mz"
   },
   "outputs": [],
   "source": [
    "#Detaching the Price form the rest of the variables. Also, I removed the posting_date since it has no prediction power\n",
    "Y=df_imp.price\n",
    "X=df_imp.drop(['price','posting_date'], axis = 1)"
   ]
  },
  {
   "cell_type": "markdown",
   "metadata": {
    "id": "8y9BcJhmT-Ys"
   },
   "source": [
    "Here, we are performing one hot encoding on the categorical variables and we are replacing by the median for numerical variables."
   ]
  },
  {
   "cell_type": "code",
   "execution_count": null,
   "metadata": {
    "id": "Txdp7LKHPfuX"
   },
   "outputs": [],
   "source": [
    "numeric_features = list(X.select_dtypes(include=[np.number]))\n",
    "categorical_features = list(X.select_dtypes(exclude=[np.number]))\n",
    "numeric_transformer = Pipeline(steps=[\n",
    "    ('imputer', SimpleImputer(strategy='median'))])\n",
    "\n",
    "categorical_transformer = OneHotEncoder(handle_unknown='ignore')\n",
    "\n",
    "preprocessor = ColumnTransformer(\n",
    "    transformers=[\n",
    "        ('num', numeric_transformer, numeric_features),\n",
    "        ('cat', categorical_transformer, categorical_features)])\n",
    "\n",
    "clf = Pipeline(steps=[('preprocessor', preprocessor),\n",
    "                      ('regression', LinearRegression())])"
   ]
  },
  {
   "cell_type": "markdown",
   "metadata": {},
   "source": [
    "As you can see, the RMSE is really bad, and a deep preprocessing technics as long as feature engineering should be implemented to enhance the model performance."
   ]
  },
  {
   "cell_type": "code",
   "execution_count": null,
   "metadata": {
    "colab": {
     "base_uri": "https://localhost:8080/"
    },
    "id": "qos63JozQhvk",
    "outputId": "72bb714e-1d58-46c6-f5c9-0e70233b1ab9"
   },
   "outputs": [
    {
     "name": "stdout",
     "output_type": "stream",
     "text": [
      "The mean is 193999.2172384339 and the standard deviation is 216255.81046560736\n"
     ]
    }
   ],
   "source": [
    "lin_reg = LinearRegression()\n",
    "cv = cross_val_score(clf, X, Y, cv = 5,scoring='neg_root_mean_squared_error')\n",
    "mean=cv.mean()\n",
    "std=cv.std()\n",
    "print(\"The mean is {} and the standard deviation is {}\".format(abs(mean),std))"
   ]
  },
  {
   "cell_type": "markdown",
   "metadata": {
    "id": "mX0kNT2rWG51"
   },
   "source": [
    "# Feature Engineering"
   ]
  },
  {
   "cell_type": "markdown",
   "metadata": {
    "id": "3U8fl9qgXlck"
   },
   "source": [
    "\n",
    "**a) Augmented Features Discussion**\n",
    "\n",
    "1.   Removing Outliers: First, I was surprised about how influential was removing the outliers from the price and odometer columns. I have noticed that the odometer column did not have any prediction power before Removing outliers\n",
    "2.   Creating a new column out of the manufacturer column: Here, I was able to engineer a new column using the manufacturer column. Basically, I grouped the 44 categories into 3 categories, according to how premium these brand are. For instance, I would group ferrari and porsche on one, kia and toyota on another group. \n",
    "1.   Creating an Age column: Using the year and the posting_date, I was able to create an age column, simply by applying the difference between the year of the posting_date column and the year column. This did not affect the accuracy of the model but it will be used to create the next feature.\n",
    "1.   Created a age/odometer rate: This new column ehanced slightly the error.\n",
    "1.   The model column was an important column. This is surprising because this column has a more than 10000 categories and I thought that it would have been so noisy to the model.\n",
    "\n",
    "\n",
    "\n",
    "\n",
    "\n",
    "\n",
    "\n",
    "\n",
    "\n",
    "\n"
   ]
  },
  {
   "cell_type": "code",
   "execution_count": null,
   "metadata": {
    "id": "2De4l2RbWkK5"
   },
   "outputs": [],
   "source": [
    "#Choosing the feature that I think have predictor power\n",
    "df_imp=df[[\"price\",\"year\",\"condition\",\"cylinders\",\"fuel\",\"odometer\",\"transmission\",\"drive\",\"type\",\"posting_date\",\"state\",\"region\",\"model\",\"manufacturer\"]]"
   ]
  },
  {
   "cell_type": "markdown",
   "metadata": {
    "id": "TW0PsmE-dGcy"
   },
   "source": [
    "1. Removing Outliers: I have decided to remove cars with prices above 200000.\n",
    "I thought that 200000$ as a price tag is too high even for new cars. I removed also odometer with more than 200000 in odometer. Cars with more than 200000 are for the most part mal functioning cars. While  some people might post these type of cars, it is best to remove them as they might posted just for the sake of joking and thus presenting an outlier.\n",
    "\n",
    "**After removing outliers, the mean of the RMSE improved drastically. It is now aound 5903 and the standard deviation is around 183**"
   ]
  },
  {
   "cell_type": "code",
   "execution_count": null,
   "metadata": {
    "id": "TvQPUF7cdEvd"
   },
   "outputs": [],
   "source": [
    "#Removing outliers\n",
    "df_imp=df_imp[df_imp[\"price\"]>1000]\n",
    "df_imp=df_imp[df_imp[\"price\"]<200000]\n",
    "df_imp=df_imp[df_imp[\"odometer\"]>1000]\n",
    "df_imp=df_imp[df_imp[\"odometer\"]<200000]\n",
    "#I will be removing columns with more than 30% nas\n",
    "df_imp = df_imp.loc[:, df_imp.isnull().mean() <= 0.3]\n",
    "#I will be dropping all the Na rows in categorical variables\n",
    "df_imp.dropna(subset=['drive', 'type','transmission','fuel',\"model\",\"manufacturer\"], inplace=True)"
   ]
  },
  {
   "cell_type": "code",
   "execution_count": null,
   "metadata": {
    "id": "TZpDjbM_fQvh"
   },
   "outputs": [],
   "source": [
    "#Seperating predictors from the variable that we want to predict\n",
    "Y=df_imp.price\n",
    "X=df_imp.drop(['price','posting_date'], axis = 1)"
   ]
  },
  {
   "cell_type": "code",
   "execution_count": null,
   "metadata": {
    "id": "wHEN_T6vfYp4"
   },
   "outputs": [],
   "source": [
    "numeric_features = list(X.select_dtypes(include=[np.number]))\n",
    "categorical_features = list(X.select_dtypes(exclude=[np.number]))\n",
    "numeric_transformer = Pipeline(steps=[\n",
    "    ('imputer', SimpleImputer(strategy='median')),\n",
    "    ('scaler', StandardScaler())])\n",
    "\n",
    "categorical_transformer = OneHotEncoder(handle_unknown='ignore')\n",
    "\n",
    "preprocessor = ColumnTransformer(\n",
    "    transformers=[\n",
    "        ('num', numeric_transformer, numeric_features),\n",
    "        ('cat', categorical_transformer, categorical_features)])\n",
    "\n",
    "clf = Pipeline(steps=[('preprocessor', preprocessor),\n",
    "                      ('regression', LinearRegression())])"
   ]
  },
  {
   "cell_type": "code",
   "execution_count": null,
   "metadata": {
    "colab": {
     "base_uri": "https://localhost:8080/"
    },
    "id": "iYGIOfmyfbWa",
    "outputId": "ae58f0e0-4b05-4dd5-8f58-3f57cf539a4a"
   },
   "outputs": [
    {
     "name": "stdout",
     "output_type": "stream",
     "text": [
      "The mean is 5903.701124852758 and the standard deviation is 183.68241516616405\n"
     ]
    }
   ],
   "source": [
    "lin_reg = LinearRegression()\n",
    "cv = cross_val_score(clf, X, Y, cv = 5,scoring='neg_root_mean_squared_error')\n",
    "mean=cv.mean()\n",
    "std=cv.std()\n",
    "print(\"The mean is {} and the standard deviation is {}\".format(abs(mean),std))"
   ]
  },
  {
   "cell_type": "markdown",
   "metadata": {
    "id": "z_cuJSptj9bk"
   },
   "source": [
    "2. Now, we are going to create a new column that groups known expensive brand, middle class brand and cheap brand in different categories. Once this is done, we will be dropping the manufacturer category.\n",
    "\n",
    "**Thanks to this new category, the mean of the RMSE dropped from 5903 to 5554. The standard deviation also dropped from 183 to 72**"
   ]
  },
  {
   "cell_type": "code",
   "execution_count": 6,
   "metadata": {
    "id": "tRo6Dgy4fegB"
   },
   "outputs": [],
   "source": [
    "#Choosing the feature that I think have predictor power\n",
    "df_imp=df[[\"price\",\"year\",\"condition\",\"cylinders\",\"fuel\",\"odometer\",\"transmission\",\"drive\",\"type\",\"posting_date\",\"state\",\"region\",\"model\",\"manufacturer\"]]\n",
    "#Removing outliers\n",
    "df_imp=df_imp[df_imp[\"price\"]>1000]\n",
    "df_imp=df_imp[df_imp[\"price\"]<200000]\n",
    "df_imp=df_imp[df_imp[\"odometer\"]>1000]\n",
    "df_imp=df_imp[df_imp[\"odometer\"]<200000]\n",
    "#I will be removing columns with more than 30% nas\n",
    "df_imp = df_imp.loc[:, df_imp.isnull().mean() <= 0.3]\n",
    "#I will be dropping all the Na rows in categorical variables\n",
    "df_imp.dropna(subset=['drive', 'type','transmission','fuel',\"model\",\"manufacturer\"], inplace=True)"
   ]
  },
  {
   "cell_type": "markdown",
   "metadata": {
    "id": "gYDotQXFk9tB"
   },
   "source": [
    "Here, we decided to create 2 lists to combine different brands based on how premium they are. After that, we create a function that will allow us to create these 3 categories in a dataframe column called Class."
   ]
  },
  {
   "cell_type": "code",
   "execution_count": null,
   "metadata": {
    "id": "9dqoVRC5kdEo"
   },
   "outputs": [],
   "source": [
    "ClassA=[\"porsche\",\"porsche\",\"tesla\",\"jaguar\",\"ferrari\",\"morgan\",\"hennessey\"]\n",
    "ClassB=[\"bmw\",\"dodge\",\"mercedes-benz\",\"jeep\",\"ram\",\"chevrolet\",\"cadillac\",\"gmc\",\"volkswagen\",\"audi\",\"lexus\",\"infiniti\",\"chrysler\",\"rover\",\"alpha-romeo\"\n",
    "\"harley-davidson\",\"land rover\"]\n",
    "def classifier(row):\n",
    "    if row['manufacturer'] in ClassA:\n",
    "        val = \"Class A\"\n",
    "    elif row['manufacturer'] in ClassB:\n",
    "        val = \"Class B\"\n",
    "    else:\n",
    "        val=\"Class C\"\n",
    "    return val\n",
    "df_imp['Class'] = df_imp.apply(classifier, axis=1)"
   ]
  },
  {
   "cell_type": "code",
   "execution_count": null,
   "metadata": {
    "id": "-1Ay58S9ksWB"
   },
   "outputs": [],
   "source": [
    "#We dropped the manufacturer column.\n",
    "Y=df_imp.price\n",
    "X=df_imp.drop(['price','manufacturer','posting_date'], axis = 1)"
   ]
  },
  {
   "cell_type": "code",
   "execution_count": null,
   "metadata": {
    "colab": {
     "base_uri": "https://localhost:8080/"
    },
    "id": "l726_h4_k141",
    "outputId": "7f046359-7893-4763-fd40-a7702447c8fc"
   },
   "outputs": [
    {
     "name": "stdout",
     "output_type": "stream",
     "text": [
      "The mean is 5554.763727001555 and the standard deviation is 72.61619531287148\n"
     ]
    }
   ],
   "source": [
    "numeric_features = list(X.select_dtypes(include=[np.number]))\n",
    "categorical_features = list(X.select_dtypes(exclude=[np.number]))\n",
    "numeric_transformer = Pipeline(steps=[\n",
    "    ('imputer', SimpleImputer(strategy='median')),\n",
    "    ('scaler', StandardScaler())])\n",
    "\n",
    "categorical_transformer = OneHotEncoder(handle_unknown='ignore')\n",
    "\n",
    "preprocessor = ColumnTransformer(\n",
    "    transformers=[\n",
    "        ('num', numeric_transformer, numeric_features),\n",
    "        ('cat', categorical_transformer, categorical_features)])\n",
    "\n",
    "clf = Pipeline(steps=[('preprocessor', preprocessor),\n",
    "                      ('regression', LinearRegression())])\n",
    "lin_reg = LinearRegression()\n",
    "cv = cross_val_score(clf, X, Y, cv = 5,scoring='neg_root_mean_squared_error')\n",
    "mean=cv.mean()\n",
    "std=cv.std()\n",
    "print(\"The mean is {} and the standard deviation is {}\".format(abs(mean),std))"
   ]
  },
  {
   "cell_type": "markdown",
   "metadata": {
    "id": "8JUPB6iAnBna"
   },
   "source": [
    "3. Now, we will be creating an age column. We will also drop the year column as it will contain the same information as age. I will not be reporting the change for this newly created column as there is no changes. However, the age column will be used to create the odometer/year rate column.\n",
    "\n",
    "**This new column decreased the mean of RMSE from 5554 to 5521 with a minimal increase in the standard deviation from 72 to 74**"
   ]
  },
  {
   "cell_type": "code",
   "execution_count": null,
   "metadata": {
    "colab": {
     "base_uri": "https://localhost:8080/"
    },
    "id": "gphTI7bNk8uv",
    "outputId": "02c5913c-a3ea-474a-f027-8b25b5537a5e"
   },
   "outputs": [
    {
     "name": "stderr",
     "output_type": "stream",
     "text": [
      "/usr/local/lib/python3.7/dist-packages/pandas/core/frame.py:3069: SettingWithCopyWarning: \n",
      "A value is trying to be set on a copy of a slice from a DataFrame.\n",
      "Try using .loc[row_indexer,col_indexer] = value instead\n",
      "\n",
      "See the caveats in the documentation: https://pandas.pydata.org/pandas-docs/stable/user_guide/indexing.html#returning-a-view-versus-a-copy\n",
      "  self[k1] = value[k2]\n",
      "/usr/local/lib/python3.7/dist-packages/ipykernel_launcher.py:6: SettingWithCopyWarning: \n",
      "A value is trying to be set on a copy of a slice from a DataFrame.\n",
      "Try using .loc[row_indexer,col_indexer] = value instead\n",
      "\n",
      "See the caveats in the documentation: https://pandas.pydata.org/pandas-docs/stable/user_guide/indexing.html#returning-a-view-versus-a-copy\n",
      "  \n",
      "/usr/local/lib/python3.7/dist-packages/ipykernel_launcher.py:7: SettingWithCopyWarning: \n",
      "A value is trying to be set on a copy of a slice from a DataFrame.\n",
      "Try using .loc[row_indexer,col_indexer] = value instead\n",
      "\n",
      "See the caveats in the documentation: https://pandas.pydata.org/pandas-docs/stable/user_guide/indexing.html#returning-a-view-versus-a-copy\n",
      "  import sys\n",
      "/usr/local/lib/python3.7/dist-packages/ipykernel_launcher.py:8: SettingWithCopyWarning: \n",
      "A value is trying to be set on a copy of a slice from a DataFrame.\n",
      "Try using .loc[row_indexer,col_indexer] = value instead\n",
      "\n",
      "See the caveats in the documentation: https://pandas.pydata.org/pandas-docs/stable/user_guide/indexing.html#returning-a-view-versus-a-copy\n",
      "  \n"
     ]
    },
    {
     "data": {
      "text/plain": [
       "0         2020.0\n",
       "1         2020.0\n",
       "2         2020.0\n",
       "3         2020.0\n",
       "4         2020.0\n",
       "           ...  \n",
       "320744    2020.0\n",
       "320745    2020.0\n",
       "320746    2020.0\n",
       "320747    2020.0\n",
       "320748    2020.0\n",
       "Name: Date, Length: 320749, dtype: float64"
      ]
     },
     "execution_count": 71,
     "metadata": {
      "tags": []
     },
     "output_type": "execute_result"
    }
   ],
   "source": [
    "df_imp=df[[\"price\",\"year\",\"condition\",\"cylinders\",\"fuel\",\"odometer\",\"transmission\",\"drive\",\"type\",\"posting_date\",\"state\",\"region\",\"model\",\"manufacturer\"]]\n",
    "#Creating the Age variable\n",
    "df_imp[[\"Date\",\"Time\"]]= df_imp[\"posting_date\"].astype(str).str.split(\"T\", expand = True)\n",
    "df_imp.pop(\"posting_date\")\n",
    "df_imp.pop(\"Time\")\n",
    "df_imp['Date'] = df_imp['Date'].astype('datetime64[ns]')\n",
    "df_imp['Date'] = df_imp['Date'].dt.year\n",
    "df_imp[\"Age\"]=df_imp['Date']-df_imp['year']\n",
    "df_imp.pop(\"Date\")"
   ]
  },
  {
   "cell_type": "code",
   "execution_count": 7,
   "metadata": {
    "collapsed": true,
    "id": "_weNYnrwoCoN"
   },
   "outputs": [
    {
     "ename": "KeyError",
     "evalue": "'Age'",
     "output_type": "error",
     "traceback": [
      "\u001b[1;31m---------------------------------------------------------------------------\u001b[0m",
      "\u001b[1;31mKeyError\u001b[0m                                  Traceback (most recent call last)",
      "\u001b[1;32m~\\Anaconda3\\lib\\site-packages\\pandas\\core\\indexes\\base.py\u001b[0m in \u001b[0;36mget_loc\u001b[1;34m(self, key, method, tolerance)\u001b[0m\n\u001b[0;32m   3079\u001b[0m             \u001b[1;32mtry\u001b[0m\u001b[1;33m:\u001b[0m\u001b[1;33m\u001b[0m\u001b[1;33m\u001b[0m\u001b[0m\n\u001b[1;32m-> 3080\u001b[1;33m                 \u001b[1;32mreturn\u001b[0m \u001b[0mself\u001b[0m\u001b[1;33m.\u001b[0m\u001b[0m_engine\u001b[0m\u001b[1;33m.\u001b[0m\u001b[0mget_loc\u001b[0m\u001b[1;33m(\u001b[0m\u001b[0mcasted_key\u001b[0m\u001b[1;33m)\u001b[0m\u001b[1;33m\u001b[0m\u001b[1;33m\u001b[0m\u001b[0m\n\u001b[0m\u001b[0;32m   3081\u001b[0m             \u001b[1;32mexcept\u001b[0m \u001b[0mKeyError\u001b[0m \u001b[1;32mas\u001b[0m \u001b[0merr\u001b[0m\u001b[1;33m:\u001b[0m\u001b[1;33m\u001b[0m\u001b[1;33m\u001b[0m\u001b[0m\n",
      "\u001b[1;32mpandas\\_libs\\index.pyx\u001b[0m in \u001b[0;36mpandas._libs.index.IndexEngine.get_loc\u001b[1;34m()\u001b[0m\n",
      "\u001b[1;32mpandas\\_libs\\index.pyx\u001b[0m in \u001b[0;36mpandas._libs.index.IndexEngine.get_loc\u001b[1;34m()\u001b[0m\n",
      "\u001b[1;32mpandas\\_libs\\hashtable_class_helper.pxi\u001b[0m in \u001b[0;36mpandas._libs.hashtable.PyObjectHashTable.get_item\u001b[1;34m()\u001b[0m\n",
      "\u001b[1;32mpandas\\_libs\\hashtable_class_helper.pxi\u001b[0m in \u001b[0;36mpandas._libs.hashtable.PyObjectHashTable.get_item\u001b[1;34m()\u001b[0m\n",
      "\u001b[1;31mKeyError\u001b[0m: 'Age'",
      "\nThe above exception was the direct cause of the following exception:\n",
      "\u001b[1;31mKeyError\u001b[0m                                  Traceback (most recent call last)",
      "\u001b[1;32m<ipython-input-7-804dec070b36>\u001b[0m in \u001b[0;36m<module>\u001b[1;34m\u001b[0m\n\u001b[0;32m     24\u001b[0m \u001b[1;33m\u001b[0m\u001b[0m\n\u001b[0;32m     25\u001b[0m \u001b[1;31m#Creating the new column.\u001b[0m\u001b[1;33m\u001b[0m\u001b[1;33m\u001b[0m\u001b[1;33m\u001b[0m\u001b[0m\n\u001b[1;32m---> 26\u001b[1;33m \u001b[0mdf_imp\u001b[0m\u001b[1;33m[\u001b[0m\u001b[1;34m\"Odermeter_year\"\u001b[0m\u001b[1;33m]\u001b[0m\u001b[1;33m=\u001b[0m\u001b[0mround\u001b[0m\u001b[1;33m(\u001b[0m\u001b[0mdf_imp\u001b[0m\u001b[1;33m[\u001b[0m\u001b[1;34m\"Age\"\u001b[0m\u001b[1;33m]\u001b[0m\u001b[1;33m/\u001b[0m\u001b[0mdf_imp\u001b[0m\u001b[1;33m[\u001b[0m\u001b[1;34m\"odometer\"\u001b[0m\u001b[1;33m]\u001b[0m\u001b[1;33m,\u001b[0m\u001b[1;36m2\u001b[0m\u001b[1;33m)\u001b[0m\u001b[1;33m\u001b[0m\u001b[1;33m\u001b[0m\u001b[0m\n\u001b[0m",
      "\u001b[1;32m~\\Anaconda3\\lib\\site-packages\\pandas\\core\\frame.py\u001b[0m in \u001b[0;36m__getitem__\u001b[1;34m(self, key)\u001b[0m\n\u001b[0;32m   3022\u001b[0m             \u001b[1;32mif\u001b[0m \u001b[0mself\u001b[0m\u001b[1;33m.\u001b[0m\u001b[0mcolumns\u001b[0m\u001b[1;33m.\u001b[0m\u001b[0mnlevels\u001b[0m \u001b[1;33m>\u001b[0m \u001b[1;36m1\u001b[0m\u001b[1;33m:\u001b[0m\u001b[1;33m\u001b[0m\u001b[1;33m\u001b[0m\u001b[0m\n\u001b[0;32m   3023\u001b[0m                 \u001b[1;32mreturn\u001b[0m \u001b[0mself\u001b[0m\u001b[1;33m.\u001b[0m\u001b[0m_getitem_multilevel\u001b[0m\u001b[1;33m(\u001b[0m\u001b[0mkey\u001b[0m\u001b[1;33m)\u001b[0m\u001b[1;33m\u001b[0m\u001b[1;33m\u001b[0m\u001b[0m\n\u001b[1;32m-> 3024\u001b[1;33m             \u001b[0mindexer\u001b[0m \u001b[1;33m=\u001b[0m \u001b[0mself\u001b[0m\u001b[1;33m.\u001b[0m\u001b[0mcolumns\u001b[0m\u001b[1;33m.\u001b[0m\u001b[0mget_loc\u001b[0m\u001b[1;33m(\u001b[0m\u001b[0mkey\u001b[0m\u001b[1;33m)\u001b[0m\u001b[1;33m\u001b[0m\u001b[1;33m\u001b[0m\u001b[0m\n\u001b[0m\u001b[0;32m   3025\u001b[0m             \u001b[1;32mif\u001b[0m \u001b[0mis_integer\u001b[0m\u001b[1;33m(\u001b[0m\u001b[0mindexer\u001b[0m\u001b[1;33m)\u001b[0m\u001b[1;33m:\u001b[0m\u001b[1;33m\u001b[0m\u001b[1;33m\u001b[0m\u001b[0m\n\u001b[0;32m   3026\u001b[0m                 \u001b[0mindexer\u001b[0m \u001b[1;33m=\u001b[0m \u001b[1;33m[\u001b[0m\u001b[0mindexer\u001b[0m\u001b[1;33m]\u001b[0m\u001b[1;33m\u001b[0m\u001b[1;33m\u001b[0m\u001b[0m\n",
      "\u001b[1;32m~\\Anaconda3\\lib\\site-packages\\pandas\\core\\indexes\\base.py\u001b[0m in \u001b[0;36mget_loc\u001b[1;34m(self, key, method, tolerance)\u001b[0m\n\u001b[0;32m   3080\u001b[0m                 \u001b[1;32mreturn\u001b[0m \u001b[0mself\u001b[0m\u001b[1;33m.\u001b[0m\u001b[0m_engine\u001b[0m\u001b[1;33m.\u001b[0m\u001b[0mget_loc\u001b[0m\u001b[1;33m(\u001b[0m\u001b[0mcasted_key\u001b[0m\u001b[1;33m)\u001b[0m\u001b[1;33m\u001b[0m\u001b[1;33m\u001b[0m\u001b[0m\n\u001b[0;32m   3081\u001b[0m             \u001b[1;32mexcept\u001b[0m \u001b[0mKeyError\u001b[0m \u001b[1;32mas\u001b[0m \u001b[0merr\u001b[0m\u001b[1;33m:\u001b[0m\u001b[1;33m\u001b[0m\u001b[1;33m\u001b[0m\u001b[0m\n\u001b[1;32m-> 3082\u001b[1;33m                 \u001b[1;32mraise\u001b[0m \u001b[0mKeyError\u001b[0m\u001b[1;33m(\u001b[0m\u001b[0mkey\u001b[0m\u001b[1;33m)\u001b[0m \u001b[1;32mfrom\u001b[0m \u001b[0merr\u001b[0m\u001b[1;33m\u001b[0m\u001b[1;33m\u001b[0m\u001b[0m\n\u001b[0m\u001b[0;32m   3083\u001b[0m \u001b[1;33m\u001b[0m\u001b[0m\n\u001b[0;32m   3084\u001b[0m         \u001b[1;32mif\u001b[0m \u001b[0mtolerance\u001b[0m \u001b[1;32mis\u001b[0m \u001b[1;32mnot\u001b[0m \u001b[1;32mNone\u001b[0m\u001b[1;33m:\u001b[0m\u001b[1;33m\u001b[0m\u001b[1;33m\u001b[0m\u001b[0m\n",
      "\u001b[1;31mKeyError\u001b[0m: 'Age'"
     ]
    }
   ],
   "source": [
    "df_imp=df_imp[df_imp[\"price\"]>1000]\n",
    "df_imp=df_imp[df_imp[\"price\"]<200000]\n",
    "df_imp=df_imp[df_imp[\"odometer\"]>1000]\n",
    "df_imp=df_imp[df_imp[\"odometer\"]<200000]\n",
    "#I will be removing columns with more than 30% nas\n",
    "df_imp = df_imp.loc[:, df_imp.isnull().mean() <= 0.3]\n",
    "#I will be dropping all the Na rows in categorical variables\n",
    "df_imp.dropna(subset=['drive', 'type','transmission','fuel',\"model\",\"manufacturer\"], inplace=True)\n",
    "\n",
    "df_imp.pop(\"year\")\n",
    "ClassA=[\"porsche\",\"porsche\",\"tesla\",\"jaguar\",\"ferrari\",\"morgan\",\"hennessey\"]\n",
    "ClassB=[\"bmw\",\"dodge\",\"mercedes-benz\",\"jeep\",\"ram\",\"chevrolet\",\"cadillac\",\"gmc\",\"volkswagen\",\"audi\",\"lexus\",\"infiniti\",\"chrysler\",\"rover\",\"alpha-romeo\"\n",
    "\"harley-davidson\",\"land rover\"]\n",
    "def classifier(row):\n",
    "    if row['manufacturer'] in ClassA:\n",
    "        val = \"Class A\"\n",
    "    elif row['manufacturer'] in ClassB:\n",
    "        val = \"Class B\"\n",
    "    else:\n",
    "        val=\"Class C\"\n",
    "    return val\n",
    "df_imp['Class'] = df_imp.apply(classifier, axis=1)\n",
    "df_imp=df_imp.reset_index()\n",
    "\n",
    "#Creating the new column.\n",
    "df_imp[\"Odermeter_year\"]=round(df_imp[\"Age\"]/df_imp[\"odometer\"],2)"
   ]
  },
  {
   "cell_type": "code",
   "execution_count": null,
   "metadata": {
    "id": "eAovfwvsoErD"
   },
   "outputs": [],
   "source": [
    "Y=df_imp.price\n",
    "X=df_imp.drop(['price','manufacturer'], axis = 1)"
   ]
  },
  {
   "cell_type": "code",
   "execution_count": null,
   "metadata": {
    "colab": {
     "base_uri": "https://localhost:8080/"
    },
    "id": "d15tAHPxoUcm",
    "outputId": "4c4b0c66-b97b-4dd3-886f-1f0fe25ac4d9"
   },
   "outputs": [
    {
     "name": "stdout",
     "output_type": "stream",
     "text": [
      "The mean is 5521.596099531194 and the standard deviation is 74.35695369899629\n"
     ]
    }
   ],
   "source": [
    "numeric_features = list(X.select_dtypes(include=[np.number]))\n",
    "categorical_features = list(X.select_dtypes(exclude=[np.number]))\n",
    "numeric_transformer = Pipeline(steps=[\n",
    "    ('imputer', SimpleImputer(strategy='median')),\n",
    "    ('scaler', StandardScaler())])\n",
    "\n",
    "categorical_transformer = OneHotEncoder(handle_unknown='ignore')\n",
    "\n",
    "preprocessor = ColumnTransformer(\n",
    "    transformers=[\n",
    "        ('num', numeric_transformer, numeric_features),\n",
    "        ('cat', categorical_transformer, categorical_features)])\n",
    "\n",
    "clf = Pipeline(steps=[('preprocessor', preprocessor),\n",
    "                      ('regression', LinearRegression())])\n",
    "lin_reg = LinearRegression()\n",
    "cv = cross_val_score(clf, X, Y, cv = 5,scoring='neg_root_mean_squared_error')\n",
    "mean=cv.mean()\n",
    "std=cv.std()\n",
    "print(\"The mean is {} and the standard deviation is {}\".format(abs(mean),std))"
   ]
  },
  {
   "cell_type": "markdown",
   "metadata": {
    "id": "VWim5S8sp2Sx"
   },
   "source": [
    "4. We will remove the model column. We will notice that the RMSE will increase.\n",
    "\n",
    "**After removing the model column, the RMSE icreased from 5521 to 7468**"
   ]
  },
  {
   "cell_type": "code",
   "execution_count": null,
   "metadata": {
    "colab": {
     "base_uri": "https://localhost:8080/"
    },
    "id": "scM48PaEoWd6",
    "outputId": "fe0f4c0b-c341-48a4-c0c0-a6e270c2a9c4"
   },
   "outputs": [
    {
     "name": "stderr",
     "output_type": "stream",
     "text": [
      "/usr/local/lib/python3.7/dist-packages/pandas/core/frame.py:3069: SettingWithCopyWarning: \n",
      "A value is trying to be set on a copy of a slice from a DataFrame.\n",
      "Try using .loc[row_indexer,col_indexer] = value instead\n",
      "\n",
      "See the caveats in the documentation: https://pandas.pydata.org/pandas-docs/stable/user_guide/indexing.html#returning-a-view-versus-a-copy\n",
      "  self[k1] = value[k2]\n",
      "/usr/local/lib/python3.7/dist-packages/ipykernel_launcher.py:6: SettingWithCopyWarning: \n",
      "A value is trying to be set on a copy of a slice from a DataFrame.\n",
      "Try using .loc[row_indexer,col_indexer] = value instead\n",
      "\n",
      "See the caveats in the documentation: https://pandas.pydata.org/pandas-docs/stable/user_guide/indexing.html#returning-a-view-versus-a-copy\n",
      "  \n",
      "/usr/local/lib/python3.7/dist-packages/ipykernel_launcher.py:7: SettingWithCopyWarning: \n",
      "A value is trying to be set on a copy of a slice from a DataFrame.\n",
      "Try using .loc[row_indexer,col_indexer] = value instead\n",
      "\n",
      "See the caveats in the documentation: https://pandas.pydata.org/pandas-docs/stable/user_guide/indexing.html#returning-a-view-versus-a-copy\n",
      "  import sys\n",
      "/usr/local/lib/python3.7/dist-packages/ipykernel_launcher.py:8: SettingWithCopyWarning: \n",
      "A value is trying to be set on a copy of a slice from a DataFrame.\n",
      "Try using .loc[row_indexer,col_indexer] = value instead\n",
      "\n",
      "See the caveats in the documentation: https://pandas.pydata.org/pandas-docs/stable/user_guide/indexing.html#returning-a-view-versus-a-copy\n",
      "  \n"
     ]
    },
    {
     "name": "stdout",
     "output_type": "stream",
     "text": [
      "The mean is 7468.955265235369 and the standard deviation is 54.59240366304103\n"
     ]
    }
   ],
   "source": [
    "df_imp=df[[\"price\",\"year\",\"condition\",\"cylinders\",\"fuel\",\"odometer\",\"transmission\",\"drive\",\"type\",\"posting_date\",\"state\",\"region\",\"manufacturer\"]]\n",
    "#Creating the Age variable\n",
    "df_imp[[\"Date\",\"Time\"]]= df_imp[\"posting_date\"].astype(str).str.split(\"T\", expand = True)\n",
    "df_imp.pop(\"posting_date\")\n",
    "df_imp.pop(\"Time\")\n",
    "df_imp['Date'] = df_imp['Date'].astype('datetime64[ns]')\n",
    "df_imp['Date'] = df_imp['Date'].dt.year\n",
    "df_imp[\"Age\"]=df_imp['Date']-df_imp['year']\n",
    "df_imp.pop(\"Date\")\n",
    "\n",
    "\n",
    "df_imp=df_imp[df_imp[\"price\"]>1000]\n",
    "df_imp=df_imp[df_imp[\"price\"]<200000]\n",
    "df_imp=df_imp[df_imp[\"odometer\"]>1000]\n",
    "df_imp=df_imp[df_imp[\"odometer\"]<200000]\n",
    "#I will be removing columns with more than 30% nas\n",
    "df_imp = df_imp.loc[:, df_imp.isnull().mean() <= 0.3]\n",
    "#I will be dropping all the Na rows in categorical variables\n",
    "df_imp.dropna(subset=['drive', 'type','transmission','fuel',\"manufacturer\"], inplace=True)\n",
    "\n",
    "df_imp.pop(\"year\")\n",
    "ClassA=[\"porsche\",\"porsche\",\"tesla\",\"jaguar\",\"ferrari\",\"morgan\",\"hennessey\"]\n",
    "ClassB=[\"bmw\",\"dodge\",\"mercedes-benz\",\"jeep\",\"ram\",\"chevrolet\",\"cadillac\",\"gmc\",\"volkswagen\",\"audi\",\"lexus\",\"infiniti\",\"chrysler\",\"rover\",\"alpha-romeo\"\n",
    "\"harley-davidson\",\"land rover\"]\n",
    "def classifier(row):\n",
    "    if row['manufacturer'] in ClassA:\n",
    "        val = \"Class A\"\n",
    "    elif row['manufacturer'] in ClassB:\n",
    "        val = \"Class B\"\n",
    "    else:\n",
    "        val=\"Class C\"\n",
    "    return val\n",
    "df_imp['Class'] = df_imp.apply(classifier, axis=1)\n",
    "df_imp=df_imp.reset_index()\n",
    "\n",
    "#Creating the new column.\n",
    "df_imp[\"Odermeter_year\"]=round(df_imp[\"Age\"]/df_imp[\"odometer\"],2)\n",
    "\n",
    "\n",
    "Y=df_imp.price\n",
    "X=df_imp.drop(['price','manufacturer'], axis = 1)\n",
    "\n",
    "numeric_features = list(X.select_dtypes(include=[np.number]))\n",
    "categorical_features = list(X.select_dtypes(exclude=[np.number]))\n",
    "numeric_transformer = Pipeline(steps=[\n",
    "    ('imputer', SimpleImputer(strategy='median')),\n",
    "    ('scaler', StandardScaler())])\n",
    "\n",
    "categorical_transformer = OneHotEncoder(handle_unknown='ignore')\n",
    "\n",
    "preprocessor = ColumnTransformer(\n",
    "    transformers=[\n",
    "        ('num', numeric_transformer, numeric_features),\n",
    "        ('cat', categorical_transformer, categorical_features)])\n",
    "\n",
    "clf = Pipeline(steps=[('preprocessor', preprocessor),\n",
    "                      ('regression', LinearRegression())])\n",
    "lin_reg = LinearRegression()\n",
    "cv = cross_val_score(clf, X, Y, cv = 5,scoring='neg_root_mean_squared_error')\n",
    "mean=cv.mean()\n",
    "std=cv.std()\n",
    "print(\"The mean is {} and the standard deviation is {}\".format(abs(mean),std))"
   ]
  },
  {
   "cell_type": "markdown",
   "metadata": {
    "id": "lnwW370Uu1Rc"
   },
   "source": [
    "**b) limitations/obstacles**\n",
    "\n",
    "One of the obstacles I faced is dropping columns that I believed has some predictive power, just because they contain multiple missing values. These missing values are difficult to replace since they are categorical variables. Removing rows from these columns could end up removing a lot of information as well. This is why I decided to drop columns that contain more than 30% missing values.\n",
    "\n",
    "Other limitations was concerning the memory limitations. I did not face such a problem, but if I did face it, then I would have reduced the number of category in a categorical columns. Basically, I would have grouped categories that are not really frequent together, in a group called other to reduce the number of categories and thus the number of columns when one hot encoding.\n",
    "\n",
    "\n",
    "**c) Report the new average RMSE and standard deviation**\n",
    "\n",
    "The average RMSE is around 5521 and the standard deviation is around 74."
   ]
  },
  {
   "cell_type": "markdown",
   "metadata": {
    "id": "BQB3DShFUhlw"
   },
   "source": [
    "# Model Optimization and Selection"
   ]
  },
  {
   "cell_type": "markdown",
   "metadata": {
    "id": "cUf68TBKUoP_"
   },
   "source": [
    "The first model that I will be testing is the linearSVC. Note here that I have tried the SVC but it was taking too much time to just train a model with 5 fold cross validation. I would expect it also to take even more with gridsearch as I am testing multiple models with different parameters and kernels. I searched the web and found out that there is a faster alternative which is LinearSVC."
   ]
  },
  {
   "cell_type": "code",
   "execution_count": 481,
   "metadata": {
    "colab": {
     "base_uri": "https://localhost:8080/"
    },
    "id": "qFzjmmTrUlwu",
    "outputId": "5c15a3b0-d588-40a5-ff18-ca372c009929"
   },
   "outputs": [],
   "source": [
    "df_imp=df[[\"price\",\"year\",\"condition\",\"cylinders\",\"fuel\",\"odometer\",\"transmission\",\"drive\",\"type\",\"posting_date\",\"state\",\"region\",\"manufacturer\", \"model\"]]\n",
    "#Creating the Age variable\n",
    "df_imp[[\"Date\",\"Time\"]]= df_imp[\"posting_date\"].astype(str).str.split(\"T\", expand = True)\n",
    "df_imp.pop(\"posting_date\")\n",
    "df_imp.pop(\"Time\")\n",
    "df_imp['Date'] = df_imp['Date'].astype('datetime64[ns]')\n",
    "df_imp['Date'] = df_imp['Date'].dt.year\n",
    "df_imp[\"Age\"]=df_imp['Date']-df_imp['year']\n",
    "df_imp.pop(\"Date\")\n",
    "\n",
    "df_imp=df_imp[df_imp[\"price\"]>1000]\n",
    "df_imp=df_imp[df_imp[\"price\"]<200000]\n",
    "df_imp=df_imp[df_imp[\"odometer\"]>1000]\n",
    "df_imp=df_imp[df_imp[\"odometer\"]<200000]\n",
    "#I will be removing columns with more than 30% nas\n",
    "df_imp = df_imp.loc[:, df_imp.isnull().mean() <= 0.3]\n",
    "#I will be dropping all the Na rows in categorical variables\n",
    "df_imp.dropna(subset=['drive', 'type','transmission','fuel',\"manufacturer\",\"model\"], inplace=True)\n",
    "\n",
    "df_imp.pop(\"year\")\n",
    "ClassA=[\"porsche\",\"porsche\",\"tesla\",\"jaguar\",\"ferrari\",\"morgan\",\"hennessey\"]\n",
    "ClassB=[\"bmw\",\"dodge\",\"mercedes-benz\",\"jeep\",\"ram\",\"chevrolet\",\"cadillac\",\"gmc\",\"volkswagen\",\"audi\",\"lexus\",\"infiniti\",\"chrysler\",\"rover\",\"alpha-romeo\"\n",
    "\"harley-davidson\",\"land rover\"]\n",
    "def classifier(row):\n",
    "    if row['manufacturer'] in ClassA:\n",
    "        val = \"Class A\"\n",
    "    elif row['manufacturer'] in ClassB:\n",
    "        val = \"Class B\"\n",
    "    else:\n",
    "        val=\"Class C\"\n",
    "    return val\n",
    "df_imp['Class'] = df_imp.apply(classifier, axis=1)\n",
    "df_imp=df_imp.reset_index()\n",
    "\n",
    "#Creating the new column.\n",
    "df_imp[\"Odermeter_year\"]=round(df_imp[\"Age\"]/df_imp[\"odometer\"],2)\n",
    "\n",
    "Y=df_imp.price\n",
    "X=df_imp.drop(['price','manufacturer'], axis = 1)\n",
    "numeric_features = list(X.select_dtypes(include=[np.number]))\n",
    "categorical_features = list(X.select_dtypes(exclude=[np.number]))\n",
    "numeric_transformer = Pipeline(steps=[\n",
    "    ('imputer', SimpleImputer(strategy='median')),\n",
    "    ('scaler', StandardScaler())])\n",
    "\n",
    "categorical_transformer = OneHotEncoder(handle_unknown='ignore')\n",
    "\n",
    "preprocessor = ColumnTransformer(\n",
    "    transformers=[\n",
    "        ('num', numeric_transformer, numeric_features),\n",
    "        ('cat', categorical_transformer, categorical_features)])\n",
    "clf = Pipeline(steps=[('preprocessor',preprocessor), ('LinearSVR', LinearSVR())])"
   ]
  },
  {
   "cell_type": "markdown",
   "metadata": {
    "id": "mrXp6U06WjmZ"
   },
   "source": [
    "In the below code, we are training our model using 5 fold cross validation with multiple parameters. C is ranging from 1 to 91 with a jump of 10."
   ]
  },
  {
   "cell_type": "code",
   "execution_count": null,
   "metadata": {
    "id": "oPAL0pwCWpqk"
   },
   "outputs": [],
   "source": [
    "param_grid = {\n",
    "    'LinearSVR__C': np.arange(0.01,100,10),\n",
    "}\n",
    "search = GridSearchCV(clf, param_grid, cv=5,scoring='neg_root_mean_squared_error',n_jobs=-1)"
   ]
  },
  {
   "cell_type": "code",
   "execution_count": null,
   "metadata": {
    "colab": {
     "base_uri": "https://localhost:8080/"
    },
    "id": "OqDnK4G4XMRb",
    "outputId": "61c588df-470d-4bab-b115-dbf6e501ecfb"
   },
   "outputs": [
    {
     "data": {
      "text/plain": [
       "GridSearchCV(cv=5, error_score=nan,\n",
       "             estimator=Pipeline(memory=None,\n",
       "                                steps=[('preprocessor',\n",
       "                                        ColumnTransformer(n_jobs=None,\n",
       "                                                          remainder='drop',\n",
       "                                                          sparse_threshold=0.3,\n",
       "                                                          transformer_weights=None,\n",
       "                                                          transformers=[('num',\n",
       "                                                                         Pipeline(memory=None,\n",
       "                                                                                  steps=[('imputer',\n",
       "                                                                                          SimpleImputer(add_indicator=False,\n",
       "                                                                                                        copy=True,\n",
       "                                                                                                        fill_value=None,\n",
       "                                                                                                        missing_values=nan,\n",
       "                                                                                                        strategy='median',\n",
       "                                                                                                        verbose=0)),...\n",
       "                                                  loss='epsilon_insensitive',\n",
       "                                                  max_iter=1000,\n",
       "                                                  random_state=None, tol=0.0001,\n",
       "                                                  verbose=0))],\n",
       "                                verbose=False),\n",
       "             iid='deprecated', n_jobs=-1,\n",
       "             param_grid={'LinearSVR__C': array([1.000e-02, 1.001e+01, 2.001e+01, 3.001e+01, 4.001e+01, 5.001e+01,\n",
       "       6.001e+01, 7.001e+01, 8.001e+01, 9.001e+01])},\n",
       "             pre_dispatch='2*n_jobs', refit=True, return_train_score=False,\n",
       "             scoring='neg_root_mean_squared_error', verbose=0)"
      ]
     },
     "execution_count": 13,
     "metadata": {
      "tags": []
     },
     "output_type": "execute_result"
    }
   ],
   "source": [
    "search.fit(X,Y)"
   ]
  },
  {
   "cell_type": "code",
   "execution_count": null,
   "metadata": {
    "colab": {
     "base_uri": "https://localhost:8080/"
    },
    "id": "fjj_8tmFXbl8",
    "outputId": "60fea6e8-147a-4349-8ec7-d9a8a708f4c2"
   },
   "outputs": [
    {
     "data": {
      "text/plain": [
       "{'LinearSVR__C': 90.01}"
      ]
     },
     "execution_count": 14,
     "metadata": {
      "tags": []
     },
     "output_type": "execute_result"
    }
   ],
   "source": [
    "search.best_params_\n"
   ]
  },
  {
   "cell_type": "markdown",
   "metadata": {
    "id": "8CaHadJjXz20"
   },
   "source": [
    "**The best hyperparameter is C=90.01**"
   ]
  },
  {
   "cell_type": "code",
   "execution_count": null,
   "metadata": {
    "colab": {
     "base_uri": "https://localhost:8080/"
    },
    "id": "K1Z5_OBbX_yp",
    "outputId": "76e1b3e1-8e91-4bdf-dcc5-c85a5ccfbeda"
   },
   "outputs": [
    {
     "name": "stdout",
     "output_type": "stream",
     "text": [
      "<class 'pandas.core.frame.DataFrame'>\n",
      "RangeIndex: 152590 entries, 0 to 152589\n",
      "Data columns (total 14 columns):\n",
      " #   Column          Non-Null Count   Dtype  \n",
      "---  ------          --------------   -----  \n",
      " 0   index           152590 non-null  int64  \n",
      " 1   price           152590 non-null  int64  \n",
      " 2   fuel            152590 non-null  object \n",
      " 3   odometer        152590 non-null  float64\n",
      " 4   transmission    152590 non-null  object \n",
      " 5   drive           152590 non-null  object \n",
      " 6   type            152590 non-null  object \n",
      " 7   state           152590 non-null  object \n",
      " 8   region          152590 non-null  object \n",
      " 9   manufacturer    152590 non-null  object \n",
      " 10  model           152590 non-null  object \n",
      " 11  Age             152590 non-null  float64\n",
      " 12  Class           152590 non-null  object \n",
      " 13  Odermeter_year  152590 non-null  float64\n",
      "dtypes: float64(3), int64(2), object(9)\n",
      "memory usage: 16.3+ MB\n"
     ]
    }
   ],
   "source": [
    "df_imp.info()"
   ]
  },
  {
   "cell_type": "markdown",
   "metadata": {
    "id": "4L_tfiUfYYZO"
   },
   "source": [
    "The next model that we will build is the decision tree model"
   ]
  },
  {
   "cell_type": "code",
   "execution_count": null,
   "metadata": {
    "id": "QR5Zx-y-YFdg"
   },
   "outputs": [],
   "source": [
    "Y=df_imp.price\n",
    "X=df_imp.drop(['price','manufacturer'], axis = 1)\n",
    "numeric_features = list(X.select_dtypes(include=[np.number]))\n",
    "categorical_features = list(X.select_dtypes(exclude=[np.number]))\n",
    "numeric_transformer = Pipeline(steps=[\n",
    "    ('imputer', SimpleImputer(strategy='median')),\n",
    "    ('scaler', StandardScaler())])\n",
    "\n",
    "categorical_transformer = OneHotEncoder(handle_unknown='ignore')\n",
    "\n",
    "preprocessor = ColumnTransformer(\n",
    "    transformers=[\n",
    "        ('num', numeric_transformer, numeric_features),\n",
    "        ('cat', categorical_transformer, categorical_features)])\n",
    "clf = Pipeline(steps=[('preprocessor',preprocessor), ('DecisionTreeRegressor', DecisionTreeRegressor())])"
   ]
  },
  {
   "cell_type": "markdown",
   "metadata": {},
   "source": [
    "Next, we will used the Decision trees and optimize its parameters as well."
   ]
  },
  {
   "cell_type": "code",
   "execution_count": null,
   "metadata": {
    "id": "-rXsntwZZGtW"
   },
   "outputs": [],
   "source": [
    "param_grid = {\n",
    "    'DecisionTreeRegressor__max_features': [2,4,6,8,10,12]\n",
    "}\n",
    "search = GridSearchCV(clf, param_grid, cv=5,scoring='neg_root_mean_squared_error',n_jobs=-1)"
   ]
  },
  {
   "cell_type": "code",
   "execution_count": null,
   "metadata": {
    "colab": {
     "base_uri": "https://localhost:8080/"
    },
    "id": "-Oz0M2CDbbaj",
    "outputId": "df39434e-d683-4246-c4f7-5f538f44b696"
   },
   "outputs": [
    {
     "data": {
      "text/plain": [
       "GridSearchCV(cv=5, error_score=nan,\n",
       "             estimator=Pipeline(memory=None,\n",
       "                                steps=[('preprocessor',\n",
       "                                        ColumnTransformer(n_jobs=None,\n",
       "                                                          remainder='drop',\n",
       "                                                          sparse_threshold=0.3,\n",
       "                                                          transformer_weights=None,\n",
       "                                                          transformers=[('num',\n",
       "                                                                         Pipeline(memory=None,\n",
       "                                                                                  steps=[('imputer',\n",
       "                                                                                          SimpleImputer(add_indicator=False,\n",
       "                                                                                                        copy=True,\n",
       "                                                                                                        fill_value=None,\n",
       "                                                                                                        missing_values=nan,\n",
       "                                                                                                        strategy='median',\n",
       "                                                                                                        verbose=0)),...\n",
       "                                                              min_impurity_split=None,\n",
       "                                                              min_samples_leaf=1,\n",
       "                                                              min_samples_split=2,\n",
       "                                                              min_weight_fraction_leaf=0.0,\n",
       "                                                              presort='deprecated',\n",
       "                                                              random_state=None,\n",
       "                                                              splitter='best'))],\n",
       "                                verbose=False),\n",
       "             iid='deprecated', n_jobs=-1,\n",
       "             param_grid={'DecisionTreeRegressor__max_features': [2, 4, 6, 8, 10,\n",
       "                                                                 12]},\n",
       "             pre_dispatch='2*n_jobs', refit=True, return_train_score=False,\n",
       "             scoring='neg_root_mean_squared_error', verbose=0)"
      ]
     },
     "execution_count": 11,
     "metadata": {
      "tags": []
     },
     "output_type": "execute_result"
    }
   ],
   "source": [
    "search.fit(X,Y)"
   ]
  },
  {
   "cell_type": "markdown",
   "metadata": {},
   "source": [
    "The best parameter found was max_features equal to **8**."
   ]
  },
  {
   "cell_type": "code",
   "execution_count": null,
   "metadata": {
    "colab": {
     "base_uri": "https://localhost:8080/"
    },
    "id": "a1_rAiS_bfBm",
    "outputId": "e9f1ca13-ca2d-4498-9ada-a9919c77b60a"
   },
   "outputs": [
    {
     "data": {
      "text/plain": [
       "{'DecisionTreeRegressor__max_features': 8}"
      ]
     },
     "execution_count": 12,
     "metadata": {
      "tags": []
     },
     "output_type": "execute_result"
    }
   ],
   "source": [
    "search.best_params_"
   ]
  },
  {
   "cell_type": "markdown",
   "metadata": {
    "id": "mwlNf17t8l_T"
   },
   "source": [
    "Finally, we tested the random forest with bootstrapping"
   ]
  },
  {
   "cell_type": "code",
   "execution_count": 487,
   "metadata": {
    "id": "F9vq1vZafHpI"
   },
   "outputs": [],
   "source": [
    "Y=df_imp.price\n",
    "X=df_imp.drop(['price','manufacturer'], axis = 1)\n",
    "numeric_features = list(X.select_dtypes(include=[np.number]))\n",
    "categorical_features = list(X.select_dtypes(exclude=[np.number]))\n",
    "numeric_transformer = Pipeline(steps=[\n",
    "    ('imputer', SimpleImputer(strategy='median')),\n",
    "    ('scaler', StandardScaler())])\n",
    "\n",
    "categorical_transformer = OneHotEncoder(handle_unknown='ignore')\n",
    "\n",
    "preprocessor = ColumnTransformer(\n",
    "    transformers=[\n",
    "        ('num', numeric_transformer, numeric_features),\n",
    "        ('cat', categorical_transformer, categorical_features)])\n",
    "clf = Pipeline(steps=[('preprocessor',preprocessor), ('RandomDecisionTreeRegressor', RandomForestRegressor())])"
   ]
  },
  {
   "cell_type": "code",
   "execution_count": 488,
   "metadata": {
    "colab": {
     "base_uri": "https://localhost:8080/"
    },
    "id": "Qg0ZSOFr9Ki0",
    "outputId": "6774956e-dd59-4925-e41a-bb668b6cabd7"
   },
   "outputs": [
    {
     "data": {
      "text/plain": [
       "RandomizedSearchCV(cv=5,\n",
       "                   estimator=Pipeline(steps=[('preprocessor',\n",
       "                                              ColumnTransformer(transformers=[('num',\n",
       "                                                                               Pipeline(steps=[('imputer',\n",
       "                                                                                                SimpleImputer(strategy='median')),\n",
       "                                                                                               ('scaler',\n",
       "                                                                                                StandardScaler())]),\n",
       "                                                                               ['index',\n",
       "                                                                                'odometer',\n",
       "                                                                                'Age',\n",
       "                                                                                'Odermeter_year']),\n",
       "                                                                              ('cat',\n",
       "                                                                               OneHotEncoder(handle_unknown='ignore'),\n",
       "                                                                               ['fuel',\n",
       "                                                                                'transmission',\n",
       "                                                                                'drive',\n",
       "                                                                                'type',\n",
       "                                                                                'state',\n",
       "                                                                                'region',\n",
       "                                                                                'model',\n",
       "                                                                                'Class'])])),\n",
       "                                             ('RandomDecisionTreeRegressor',\n",
       "                                              RandomForestRegressor())]),\n",
       "                   n_jobs=-1,\n",
       "                   param_distributions=[{'RandomDecisionTreeRegressor__max_depth': [10,\n",
       "                                                                                    100,\n",
       "                                                                                    1000],\n",
       "                                         'RandomDecisionTreeRegressor__n_estimators': [5,\n",
       "                                                                                       10,\n",
       "                                                                                       25]}],\n",
       "                   return_train_score=True,\n",
       "                   scoring='neg_root_mean_squared_error')"
      ]
     },
     "execution_count": 488,
     "metadata": {},
     "output_type": "execute_result"
    }
   ],
   "source": [
    "#I will not play with the max feature at the moment. I will dropping unimportant columns later on\n",
    "from sklearn.model_selection import RandomizedSearchCV\n",
    "param_grid = [\n",
    "    # try 12 (3×4) combinations of hyperparameters\n",
    "    {'RandomDecisionTreeRegressor__n_estimators': [5,10,25],'RandomDecisionTreeRegressor__max_depth':[10,100,1000]}\n",
    "  ]\n",
    "\n",
    "forest_reg = RandomForestRegressor()\n",
    "\n",
    "search = RandomizedSearchCV(clf, param_grid, cv=5,\n",
    "                           scoring='neg_root_mean_squared_error', return_train_score=True, n_jobs=-1)\n",
    "search.fit(X, Y)"
   ]
  },
  {
   "cell_type": "markdown",
   "metadata": {},
   "source": [
    "The best Parameter found was 25 for n_estimators and 1000 max_depth."
   ]
  },
  {
   "cell_type": "code",
   "execution_count": 489,
   "metadata": {
    "colab": {
     "base_uri": "https://localhost:8080/"
    },
    "id": "eQeT6OH7mXBw",
    "outputId": "cad113ea-0625-46fd-bb9c-6b68703333f0"
   },
   "outputs": [
    {
     "data": {
      "text/plain": [
       "{'RandomDecisionTreeRegressor__n_estimators': 25,\n",
       " 'RandomDecisionTreeRegressor__max_depth': 1000}"
      ]
     },
     "execution_count": 489,
     "metadata": {},
     "output_type": "execute_result"
    }
   ],
   "source": [
    "search.best_params_"
   ]
  },
  {
   "cell_type": "code",
   "execution_count": 490,
   "metadata": {
    "collapsed": true
   },
   "outputs": [
    {
     "data": {
      "text/plain": [
       "{'mean_fit_time': array([  23.58071432,   45.25649252,  111.52395463,  445.53328123,\n",
       "         888.55885458, 2203.72140684,  464.97942171,  910.40271597,\n",
       "        2011.16834884]),\n",
       " 'std_fit_time': array([  0.38565382,   0.3850895 ,   1.33762104,   2.69216492,\n",
       "          3.76837952,  21.84282719,   8.13244025,   7.33594167,\n",
       "        345.28535547]),\n",
       " 'mean_score_time': array([0.30942235, 0.33980508, 0.42116113, 0.42995515, 0.52449975,\n",
       "        0.86850462, 0.48332472, 0.56187911, 0.71479025]),\n",
       " 'std_score_time': array([0.01488572, 0.01907886, 0.01700468, 0.03311866, 0.03522512,\n",
       "        0.04398479, 0.12742663, 0.0886631 , 0.13260351]),\n",
       " 'param_RandomDecisionTreeRegressor__n_estimators': masked_array(data=[5, 10, 25, 5, 10, 25, 5, 10, 25],\n",
       "              mask=[False, False, False, False, False, False, False, False,\n",
       "                    False],\n",
       "        fill_value='?',\n",
       "             dtype=object),\n",
       " 'param_RandomDecisionTreeRegressor__max_depth': masked_array(data=[10, 10, 10, 100, 100, 100, 1000, 1000, 1000],\n",
       "              mask=[False, False, False, False, False, False, False, False,\n",
       "                    False],\n",
       "        fill_value='?',\n",
       "             dtype=object),\n",
       " 'params': [{'RandomDecisionTreeRegressor__n_estimators': 5,\n",
       "   'RandomDecisionTreeRegressor__max_depth': 10},\n",
       "  {'RandomDecisionTreeRegressor__n_estimators': 10,\n",
       "   'RandomDecisionTreeRegressor__max_depth': 10},\n",
       "  {'RandomDecisionTreeRegressor__n_estimators': 25,\n",
       "   'RandomDecisionTreeRegressor__max_depth': 10},\n",
       "  {'RandomDecisionTreeRegressor__n_estimators': 5,\n",
       "   'RandomDecisionTreeRegressor__max_depth': 100},\n",
       "  {'RandomDecisionTreeRegressor__n_estimators': 10,\n",
       "   'RandomDecisionTreeRegressor__max_depth': 100},\n",
       "  {'RandomDecisionTreeRegressor__n_estimators': 25,\n",
       "   'RandomDecisionTreeRegressor__max_depth': 100},\n",
       "  {'RandomDecisionTreeRegressor__n_estimators': 5,\n",
       "   'RandomDecisionTreeRegressor__max_depth': 1000},\n",
       "  {'RandomDecisionTreeRegressor__n_estimators': 10,\n",
       "   'RandomDecisionTreeRegressor__max_depth': 1000},\n",
       "  {'RandomDecisionTreeRegressor__n_estimators': 25,\n",
       "   'RandomDecisionTreeRegressor__max_depth': 1000}],\n",
       " 'split0_test_score': array([-6108.15581484, -6156.16388338, -6107.28667765, -4788.72101832,\n",
       "        -4654.39657287, -4498.52950001, -4699.84184835, -4565.58955938,\n",
       "        -4454.03272355]),\n",
       " 'split1_test_score': array([-6032.96877058, -6011.96030204, -5973.15504266, -4377.17437997,\n",
       "        -4299.37938634, -4183.11640967, -4451.71063774, -4262.03988307,\n",
       "        -4158.19040631]),\n",
       " 'split2_test_score': array([-6278.07899379, -6204.39276715, -6213.43108923, -4427.19437557,\n",
       "        -4332.95351556, -4241.43647193, -4487.06368311, -4279.38826554,\n",
       "        -4244.42092111]),\n",
       " 'split3_test_score': array([-6134.60863798, -6124.8057201 , -6087.04502018, -4461.85461017,\n",
       "        -4372.41765263, -4290.28522827, -4473.54631424, -4367.67523281,\n",
       "        -4263.3176195 ]),\n",
       " 'split4_test_score': array([-6061.18480329, -5978.42535825, -5975.41413569, -4562.81769425,\n",
       "        -4379.38097552, -4251.33737467, -4581.04947521, -4331.17759271,\n",
       "        -4215.4541517 ]),\n",
       " 'mean_test_score': array([-6122.9994041 , -6095.14960618, -6071.26639308, -4523.55241566,\n",
       "        -4407.70562058, -4292.94099691, -4538.64239173, -4361.17410671,\n",
       "        -4267.08316443]),\n",
       " 'std_test_score': array([ 85.24241367,  86.11771678,  90.07854254, 145.85895267,\n",
       "        126.66996674, 108.36854078,  91.91149861, 108.85242386,\n",
       "        100.00108198]),\n",
       " 'rank_test_score': array([9, 8, 7, 5, 4, 2, 6, 3, 1]),\n",
       " 'split0_train_score': array([-5803.520097  , -5796.96682179, -5745.44174189, -2066.22229409,\n",
       "        -1819.36998408, -1697.51455125, -2019.56579732, -1806.74226719,\n",
       "        -1672.66482697]),\n",
       " 'split1_train_score': array([-5775.83987069, -5827.47801617, -5765.85312594, -2094.51278945,\n",
       "        -1838.67394832, -1680.4580128 , -2060.71136958, -1797.88700555,\n",
       "        -1657.8369118 ]),\n",
       " 'split2_train_score': array([-5834.99456425, -5770.85082156, -5780.12227315, -2050.93749973,\n",
       "        -1821.74707515, -1683.87515879, -2041.93316698, -1783.44719071,\n",
       "        -1645.21182751]),\n",
       " 'split3_train_score': array([-5867.67378798, -5836.48513487, -5788.20163057, -2080.50888315,\n",
       "        -1855.03287831, -1657.14317771, -2023.04985643, -1781.75817695,\n",
       "        -1683.72450561]),\n",
       " 'split4_train_score': array([-5834.7738408 , -5763.10123856, -5765.18571854, -2086.44508894,\n",
       "        -1853.9620096 , -1696.32783803, -2075.20301247, -1797.7250897 ,\n",
       "        -1687.60565743]),\n",
       " 'mean_train_score': array([-5823.36043215, -5798.97640659, -5768.96089802, -2075.72531107,\n",
       "        -1837.75717909, -1683.06374771, -2044.09264056, -1793.51194602,\n",
       "        -1669.40874587]),\n",
       " 'std_train_score': array([31.24463184, 29.33039751, 14.64133202, 15.46291348, 15.20722953,\n",
       "        14.58825559, 21.41525402,  9.50140527, 15.912692  ])}"
      ]
     },
     "execution_count": 490,
     "metadata": {},
     "output_type": "execute_result"
    }
   ],
   "source": [
    "search.cv_results_"
   ]
  },
  {
   "cell_type": "code",
   "execution_count": 491,
   "metadata": {
    "collapsed": true
   },
   "outputs": [
    {
     "name": "stdout",
     "output_type": "stream",
     "text": [
      " Results from Random Search \n",
      "\n",
      " The best estimator across ALL searched params:\n",
      " Pipeline(steps=[('preprocessor',\n",
      "                 ColumnTransformer(transformers=[('num',\n",
      "                                                  Pipeline(steps=[('imputer',\n",
      "                                                                   SimpleImputer(strategy='median')),\n",
      "                                                                  ('scaler',\n",
      "                                                                   StandardScaler())]),\n",
      "                                                  ['index', 'odometer', 'Age',\n",
      "                                                   'Odermeter_year']),\n",
      "                                                 ('cat',\n",
      "                                                  OneHotEncoder(handle_unknown='ignore'),\n",
      "                                                  ['fuel', 'transmission',\n",
      "                                                   'drive', 'type', 'state',\n",
      "                                                   'region', 'model',\n",
      "                                                   'Class'])])),\n",
      "                ('RandomDecisionTreeRegressor',\n",
      "                 RandomForestRegressor(max_depth=1000, n_estimators=25))])\n",
      "\n",
      " The best score across ALL searched params:\n",
      " -4267.083164434052\n",
      "\n",
      " The best parameters across ALL searched params:\n",
      " {'RandomDecisionTreeRegressor__n_estimators': 25, 'RandomDecisionTreeRegressor__max_depth': 1000}\n"
     ]
    }
   ],
   "source": [
    "print(\" Results from Random Search \" )\n",
    "print(\"\\n The best estimator across ALL searched params:\\n\", search.best_estimator_)\n",
    "print(\"\\n The best score across ALL searched params:\\n\", search.best_score_)\n",
    "print(\"\\n The best parameters across ALL searched params:\\n\", search.best_params_)"
   ]
  },
  {
   "cell_type": "markdown",
   "metadata": {},
   "source": [
    "**a) For each model, report the average RMSE and the standard deviation**\n",
    "\n",
    "Here, I retested every model with the best parameter to choose between the better one. I know I could have done this immediately with gridsearchcv however I lost everthing due to google colab reconnecting and I decided not to repeat all the training. Luckily I had the best parameters."
   ]
  },
  {
   "cell_type": "code",
   "execution_count": 483,
   "metadata": {},
   "outputs": [],
   "source": [
    "Y=df_imp.price\n",
    "X=df_imp.drop(['price','manufacturer'], axis = 1)\n",
    "numeric_features = list(X.select_dtypes(include=[np.number]))\n",
    "categorical_features = list(X.select_dtypes(exclude=[np.number]))\n",
    "numeric_transformer = Pipeline(steps=[\n",
    "    ('imputer', SimpleImputer(strategy='median')),\n",
    "    ('scaler', StandardScaler())])\n",
    "\n",
    "categorical_transformer = OneHotEncoder(handle_unknown='ignore')\n",
    "\n",
    "preprocessor = ColumnTransformer(\n",
    "    transformers=[\n",
    "        ('num', numeric_transformer, numeric_features),\n",
    "        ('cat', categorical_transformer, categorical_features)])\n",
    "clf = Pipeline(steps=[('preprocessor',preprocessor), ('LinearSVR', LinearSVR(C=90.1))])"
   ]
  },
  {
   "cell_type": "code",
   "execution_count": 484,
   "metadata": {},
   "outputs": [
    {
     "name": "stdout",
     "output_type": "stream",
     "text": [
      "The mean is 7039.849666018163 and the standard deviation is 44.4900253309919\n"
     ]
    }
   ],
   "source": [
    "cv = cross_val_score(clf, X, Y, cv = 5,scoring='neg_root_mean_squared_error')\n",
    "print(\"The mean is {} and the standard deviation is {}\".format(abs(cv.mean()),cv.std()))"
   ]
  },
  {
   "cell_type": "code",
   "execution_count": 485,
   "metadata": {},
   "outputs": [],
   "source": [
    "Y=df_imp.price\n",
    "X=df_imp.drop(['price','manufacturer'], axis = 1)\n",
    "numeric_features = list(X.select_dtypes(include=[np.number]))\n",
    "categorical_features = list(X.select_dtypes(exclude=[np.number]))\n",
    "numeric_transformer = Pipeline(steps=[\n",
    "    ('imputer', SimpleImputer(strategy='median')),\n",
    "    ('scaler', StandardScaler())])\n",
    "\n",
    "categorical_transformer = OneHotEncoder(handle_unknown='ignore')\n",
    "\n",
    "preprocessor = ColumnTransformer(\n",
    "    transformers=[\n",
    "        ('num', numeric_transformer, numeric_features),\n",
    "        ('cat', categorical_transformer, categorical_features)])\n",
    "clf = Pipeline(steps=[('preprocessor',preprocessor), ('DecisionTreeRegressor', DecisionTreeRegressor(max_features=8))])"
   ]
  },
  {
   "cell_type": "code",
   "execution_count": 486,
   "metadata": {},
   "outputs": [
    {
     "name": "stdout",
     "output_type": "stream",
     "text": [
      "The mean is 8823.519197483465 and the standard deviation is 417.2980030637792\n"
     ]
    }
   ],
   "source": [
    "cv = cross_val_score(clf, X, Y, cv = 5,scoring='neg_root_mean_squared_error')\n",
    "print(\"The mean is {} and the standard deviation is {}\".format(abs(cv.mean()),cv.std()))"
   ]
  },
  {
   "cell_type": "code",
   "execution_count": 6,
   "metadata": {
    "id": "OheJJgqT-atZ"
   },
   "outputs": [],
   "source": [
    "Y=df_imp.price\n",
    "X=df_imp.drop(['price','manufacturer'], axis = 1)\n",
    "numeric_features = list(X.select_dtypes(include=[np.number]))\n",
    "categorical_features = list(X.select_dtypes(exclude=[np.number]))\n",
    "numeric_transformer = Pipeline(steps=[\n",
    "    ('imputer', SimpleImputer(strategy='median')),\n",
    "    ('scaler', StandardScaler())])\n",
    "\n",
    "categorical_transformer = OneHotEncoder(handle_unknown='ignore')\n",
    "\n",
    "preprocessor = ColumnTransformer(\n",
    "    transformers=[\n",
    "        ('num', numeric_transformer, numeric_features),\n",
    "        ('cat', categorical_transformer, categorical_features)])\n",
    "clf = Pipeline(steps=[('preprocessor',preprocessor), ('RandomDecisionTreeRegressor', RandomForestRegressor(n_estimators=10, max_depth=1000))])"
   ]
  },
  {
   "cell_type": "code",
   "execution_count": 7,
   "metadata": {
    "id": "VOXGl6GOZNEl"
   },
   "outputs": [],
   "source": [
    "cv = cross_val_score(clf, X, Y, cv = 5,scoring='neg_root_mean_squared_error')"
   ]
  },
  {
   "cell_type": "code",
   "execution_count": 9,
   "metadata": {
    "colab": {
     "base_uri": "https://localhost:8080/"
    },
    "id": "POqXsFCbaI9-",
    "outputId": "25b87bba-4e83-4e7d-88e7-3007cbde355e"
   },
   "outputs": [
    {
     "name": "stdout",
     "output_type": "stream",
     "text": [
      "The mean is 4382.452435582307 and the standard deviation is 117.98835279263088\n"
     ]
    }
   ],
   "source": [
    "print(\"The mean is {} and the standard deviation is {}\".format(abs(cv.mean()),cv.std()))"
   ]
  },
  {
   "cell_type": "code",
   "execution_count": 16,
   "metadata": {},
   "outputs": [],
   "source": [
    "Y=df_imp.price\n",
    "X=df_imp.drop(['price','manufacturer'], axis = 1)\n",
    "numeric_features = list(X.select_dtypes(include=[np.number]))\n",
    "categorical_features = list(X.select_dtypes(exclude=[np.number]))\n",
    "numeric_transformer = Pipeline(steps=[\n",
    "    ('imputer', SimpleImputer(strategy='median')),\n",
    "    ('scaler', StandardScaler())])\n",
    "\n",
    "categorical_transformer = OneHotEncoder(handle_unknown='ignore')\n",
    "\n",
    "preprocessor = ColumnTransformer(\n",
    "    transformers=[\n",
    "        ('num', numeric_transformer, numeric_features),\n",
    "        ('cat', categorical_transformer, categorical_features)])\n",
    "clf = Pipeline(steps=[('preprocessor',preprocessor), ('RandomDecisionTreeRegressor', RandomForestRegressor(n_estimators=25, max_depth=1000))])"
   ]
  },
  {
   "cell_type": "code",
   "execution_count": 17,
   "metadata": {},
   "outputs": [
    {
     "name": "stdout",
     "output_type": "stream",
     "text": [
      "The mean is 4369.134307783155 and the standard deviation is 140.82873330688173\n"
     ]
    }
   ],
   "source": [
    "cv = cross_val_score(clf, X, Y, cv = 5,scoring='neg_root_mean_squared_error')\n",
    "print(\"The mean is {} and the standard deviation is {}\".format(abs(cv.mean()),cv.std()))"
   ]
  },
  {
   "cell_type": "markdown",
   "metadata": {},
   "source": [
    "**b) Select the overall best model for the next step**\n",
    "\n",
    "The best model that should be chosen is random forest with bootstrapping, with n_estimators equal to 25 and max_depth equal to 1000. However, given the minimal differnece between the n_estimators 10, we will be sticking with the random forest model with n_estimators equal to 10 and 1000, which takes less time to train."
   ]
  },
  {
   "cell_type": "markdown",
   "metadata": {},
   "source": [
    "# Feature Selection"
   ]
  },
  {
   "cell_type": "markdown",
   "metadata": {},
   "source": [
    "**a) Investigate the feature importance calculated inside the model (coef_ or feature_importances_ attribute), compare that to the results of applying RFECV and make your decision on what feature to drop**"
   ]
  },
  {
   "cell_type": "markdown",
   "metadata": {},
   "source": [
    "In this section, we will be trying to find the features with little to no effect on the RMSE and we will be trying to remove them. To do so, we will be focusing mainly on the feature_importances_, while also comparing the result to the RFECV."
   ]
  },
  {
   "cell_type": "markdown",
   "metadata": {},
   "source": [
    "The first step is to train to model chosen, in order to extract the important features."
   ]
  },
  {
   "cell_type": "code",
   "execution_count": 9,
   "metadata": {},
   "outputs": [
    {
     "data": {
      "text/plain": [
       "Pipeline(steps=[('preprocessor',\n",
       "                 ColumnTransformer(transformers=[('num',\n",
       "                                                  Pipeline(steps=[('imputer',\n",
       "                                                                   SimpleImputer(strategy='median')),\n",
       "                                                                  ('scaler',\n",
       "                                                                   StandardScaler())]),\n",
       "                                                  ['index', 'odometer', 'Age',\n",
       "                                                   'Odermeter_year']),\n",
       "                                                 ('cat',\n",
       "                                                  Pipeline(steps=[('one_hot',\n",
       "                                                                   OneHotEncoder(handle_unknown='ignore'))]),\n",
       "                                                  ['fuel', 'transmission',\n",
       "                                                   'drive', 'type', 'state',\n",
       "                                                   'region', 'model',\n",
       "                                                   'Class'])])),\n",
       "                ('RandomDecisionTreeRegressor',\n",
       "                 RandomForestRegressor(max_depth=1000, n_estimators=10))])"
      ]
     },
     "execution_count": 9,
     "metadata": {},
     "output_type": "execute_result"
    }
   ],
   "source": [
    "Y=df_imp.price\n",
    "X=df_imp.drop(['price','manufacturer'], axis = 1)\n",
    "numeric_features = list(X.select_dtypes(include=[np.number]))\n",
    "categorical_features = list(X.select_dtypes(exclude=[np.number]))\n",
    "numeric_transformer = Pipeline(steps=[\n",
    "    ('imputer', SimpleImputer(strategy='median')),\n",
    "    ('scaler', StandardScaler())])\n",
    "\n",
    "categorical_transformer = Pipeline(steps=[('one_hot', OneHotEncoder(handle_unknown='ignore'))])\n",
    "preprocessor = ColumnTransformer(\n",
    "    transformers=[\n",
    "        ('num', numeric_transformer, numeric_features),\n",
    "        ('cat', categorical_transformer, categorical_features)])\n",
    "\n",
    "clf = Pipeline(steps=[('preprocessor',preprocessor), ('RandomDecisionTreeRegressor', RandomForestRegressor(n_estimators=10, max_depth=1000, bootstrap=True))])\n",
    "\n",
    "clf.fit(X, Y)"
   ]
  },
  {
   "cell_type": "markdown",
   "metadata": {},
   "source": [
    "Here, I have used a special method that I found on the internet. I was struggling to extract the feature importance with the one hot encoding. "
   ]
  },
  {
   "cell_type": "code",
   "execution_count": 13,
   "metadata": {
    "collapsed": true,
    "id": "ufR2xwu_PFOI"
   },
   "outputs": [
    {
     "data": {
      "text/html": [
       "\n",
       "    <style>\n",
       "    table.eli5-weights tr:hover {\n",
       "        filter: brightness(85%);\n",
       "    }\n",
       "</style>\n",
       "\n",
       "\n",
       "\n",
       "    \n",
       "\n",
       "    \n",
       "\n",
       "    \n",
       "\n",
       "    \n",
       "\n",
       "    \n",
       "\n",
       "    \n",
       "\n",
       "\n",
       "    \n",
       "\n",
       "    \n",
       "\n",
       "    \n",
       "\n",
       "    \n",
       "\n",
       "    \n",
       "\n",
       "    \n",
       "\n",
       "\n",
       "    \n",
       "\n",
       "    \n",
       "\n",
       "    \n",
       "\n",
       "    \n",
       "\n",
       "    \n",
       "        <table class=\"eli5-weights eli5-feature-importances\" style=\"border-collapse: collapse; border: none; margin-top: 0em; table-layout: auto;\">\n",
       "    <thead>\n",
       "    <tr style=\"border: none;\">\n",
       "        <th style=\"padding: 0 1em 0 0.5em; text-align: right; border: none;\">Weight</th>\n",
       "        <th style=\"padding: 0 0.5em 0 0.5em; text-align: left; border: none;\">Feature</th>\n",
       "    </tr>\n",
       "    </thead>\n",
       "    <tbody>\n",
       "    \n",
       "        <tr style=\"background-color: hsl(120, 100.00%, 80.00%); border: none;\">\n",
       "            <td style=\"padding: 0 1em 0 0.5em; text-align: right; border: none;\">\n",
       "                0.3301\n",
       "                \n",
       "                    &plusmn; 0.0073\n",
       "                \n",
       "            </td>\n",
       "            <td style=\"padding: 0 0.5em 0 0.5em; text-align: left; border: none;\">\n",
       "                Age\n",
       "            </td>\n",
       "        </tr>\n",
       "    \n",
       "        <tr style=\"background-color: hsl(120, 100.00%, 86.36%); border: none;\">\n",
       "            <td style=\"padding: 0 1em 0 0.5em; text-align: right; border: none;\">\n",
       "                0.1912\n",
       "                \n",
       "                    &plusmn; 0.0062\n",
       "                \n",
       "            </td>\n",
       "            <td style=\"padding: 0 0.5em 0 0.5em; text-align: left; border: none;\">\n",
       "                drive_fwd\n",
       "            </td>\n",
       "        </tr>\n",
       "    \n",
       "        <tr style=\"background-color: hsl(120, 100.00%, 89.07%); border: none;\">\n",
       "            <td style=\"padding: 0 1em 0 0.5em; text-align: right; border: none;\">\n",
       "                0.1393\n",
       "                \n",
       "                    &plusmn; 0.0040\n",
       "                \n",
       "            </td>\n",
       "            <td style=\"padding: 0 0.5em 0 0.5em; text-align: left; border: none;\">\n",
       "                odometer\n",
       "            </td>\n",
       "        </tr>\n",
       "    \n",
       "        <tr style=\"background-color: hsl(120, 100.00%, 93.87%); border: none;\">\n",
       "            <td style=\"padding: 0 1em 0 0.5em; text-align: right; border: none;\">\n",
       "                0.0609\n",
       "                \n",
       "                    &plusmn; 0.0051\n",
       "                \n",
       "            </td>\n",
       "            <td style=\"padding: 0 0.5em 0 0.5em; text-align: left; border: none;\">\n",
       "                fuel_diesel\n",
       "            </td>\n",
       "        </tr>\n",
       "    \n",
       "        <tr style=\"background-color: hsl(120, 100.00%, 97.61%); border: none;\">\n",
       "            <td style=\"padding: 0 1em 0 0.5em; text-align: right; border: none;\">\n",
       "                0.0159\n",
       "                \n",
       "                    &plusmn; 0.0020\n",
       "                \n",
       "            </td>\n",
       "            <td style=\"padding: 0 0.5em 0 0.5em; text-align: left; border: none;\">\n",
       "                type_pickup\n",
       "            </td>\n",
       "        </tr>\n",
       "    \n",
       "        <tr style=\"background-color: hsl(120, 100.00%, 98.00%); border: none;\">\n",
       "            <td style=\"padding: 0 1em 0 0.5em; text-align: right; border: none;\">\n",
       "                0.0123\n",
       "                \n",
       "                    &plusmn; 0.0012\n",
       "                \n",
       "            </td>\n",
       "            <td style=\"padding: 0 0.5em 0 0.5em; text-align: left; border: none;\">\n",
       "                type_truck\n",
       "            </td>\n",
       "        </tr>\n",
       "    \n",
       "        <tr style=\"background-color: hsl(120, 100.00%, 98.49%); border: none;\">\n",
       "            <td style=\"padding: 0 1em 0 0.5em; text-align: right; border: none;\">\n",
       "                0.0082\n",
       "                \n",
       "                    &plusmn; 0.0054\n",
       "                \n",
       "            </td>\n",
       "            <td style=\"padding: 0 0.5em 0 0.5em; text-align: left; border: none;\">\n",
       "                Class_Class C\n",
       "            </td>\n",
       "        </tr>\n",
       "    \n",
       "        <tr style=\"background-color: hsl(120, 100.00%, 98.65%); border: none;\">\n",
       "            <td style=\"padding: 0 1em 0 0.5em; text-align: right; border: none;\">\n",
       "                0.0070\n",
       "                \n",
       "                    &plusmn; 0.0005\n",
       "                \n",
       "            </td>\n",
       "            <td style=\"padding: 0 0.5em 0 0.5em; text-align: left; border: none;\">\n",
       "                index\n",
       "            </td>\n",
       "        </tr>\n",
       "    \n",
       "        <tr style=\"background-color: hsl(120, 100.00%, 98.84%); border: none;\">\n",
       "            <td style=\"padding: 0 1em 0 0.5em; text-align: right; border: none;\">\n",
       "                0.0057\n",
       "                \n",
       "                    &plusmn; 0.0020\n",
       "                \n",
       "            </td>\n",
       "            <td style=\"padding: 0 0.5em 0 0.5em; text-align: left; border: none;\">\n",
       "                Class_Class A\n",
       "            </td>\n",
       "        </tr>\n",
       "    \n",
       "        <tr style=\"background-color: hsl(120, 100.00%, 98.91%); border: none;\">\n",
       "            <td style=\"padding: 0 1em 0 0.5em; text-align: right; border: none;\">\n",
       "                0.0051\n",
       "                \n",
       "                    &plusmn; 0.0011\n",
       "                \n",
       "            </td>\n",
       "            <td style=\"padding: 0 0.5em 0 0.5em; text-align: left; border: none;\">\n",
       "                type_sedan\n",
       "            </td>\n",
       "        </tr>\n",
       "    \n",
       "        <tr style=\"background-color: hsl(120, 100.00%, 98.97%); border: none;\">\n",
       "            <td style=\"padding: 0 1em 0 0.5em; text-align: right; border: none;\">\n",
       "                0.0048\n",
       "                \n",
       "                    &plusmn; 0.0030\n",
       "                \n",
       "            </td>\n",
       "            <td style=\"padding: 0 0.5em 0 0.5em; text-align: left; border: none;\">\n",
       "                drive_4wd\n",
       "            </td>\n",
       "        </tr>\n",
       "    \n",
       "        <tr style=\"background-color: hsl(120, 100.00%, 99.11%); border: none;\">\n",
       "            <td style=\"padding: 0 1em 0 0.5em; text-align: right; border: none;\">\n",
       "                0.0039\n",
       "                \n",
       "                    &plusmn; 0.0042\n",
       "                \n",
       "            </td>\n",
       "            <td style=\"padding: 0 0.5em 0 0.5em; text-align: left; border: none;\">\n",
       "                Class_Class B\n",
       "            </td>\n",
       "        </tr>\n",
       "    \n",
       "        <tr style=\"background-color: hsl(120, 100.00%, 99.11%); border: none;\">\n",
       "            <td style=\"padding: 0 1em 0 0.5em; text-align: right; border: none;\">\n",
       "                0.0039\n",
       "                \n",
       "                    &plusmn; 0.0008\n",
       "                \n",
       "            </td>\n",
       "            <td style=\"padding: 0 0.5em 0 0.5em; text-align: left; border: none;\">\n",
       "                type_SUV\n",
       "            </td>\n",
       "        </tr>\n",
       "    \n",
       "        <tr style=\"background-color: hsl(120, 100.00%, 99.13%); border: none;\">\n",
       "            <td style=\"padding: 0 1em 0 0.5em; text-align: right; border: none;\">\n",
       "                0.0037\n",
       "                \n",
       "                    &plusmn; 0.0016\n",
       "                \n",
       "            </td>\n",
       "            <td style=\"padding: 0 0.5em 0 0.5em; text-align: left; border: none;\">\n",
       "                drive_rwd\n",
       "            </td>\n",
       "        </tr>\n",
       "    \n",
       "        <tr style=\"background-color: hsl(120, 100.00%, 99.20%); border: none;\">\n",
       "            <td style=\"padding: 0 1em 0 0.5em; text-align: right; border: none;\">\n",
       "                0.0033\n",
       "                \n",
       "                    &plusmn; 0.0019\n",
       "                \n",
       "            </td>\n",
       "            <td style=\"padding: 0 0.5em 0 0.5em; text-align: left; border: none;\">\n",
       "                type_coupe\n",
       "            </td>\n",
       "        </tr>\n",
       "    \n",
       "        <tr style=\"background-color: hsl(120, 100.00%, 99.23%); border: none;\">\n",
       "            <td style=\"padding: 0 1em 0 0.5em; text-align: right; border: none;\">\n",
       "                0.0031\n",
       "                \n",
       "                    &plusmn; 0.0005\n",
       "                \n",
       "            </td>\n",
       "            <td style=\"padding: 0 0.5em 0 0.5em; text-align: left; border: none;\">\n",
       "                type_hatchback\n",
       "            </td>\n",
       "        </tr>\n",
       "    \n",
       "        <tr style=\"background-color: hsl(120, 100.00%, 99.24%); border: none;\">\n",
       "            <td style=\"padding: 0 1em 0 0.5em; text-align: right; border: none;\">\n",
       "                0.0031\n",
       "                \n",
       "                    &plusmn; 0.0024\n",
       "                \n",
       "            </td>\n",
       "            <td style=\"padding: 0 0.5em 0 0.5em; text-align: left; border: none;\">\n",
       "                model_g-class\n",
       "            </td>\n",
       "        </tr>\n",
       "    \n",
       "        <tr style=\"background-color: hsl(120, 100.00%, 99.25%); border: none;\">\n",
       "            <td style=\"padding: 0 1em 0 0.5em; text-align: right; border: none;\">\n",
       "                0.0030\n",
       "                \n",
       "                    &plusmn; 0.0017\n",
       "                \n",
       "            </td>\n",
       "            <td style=\"padding: 0 0.5em 0 0.5em; text-align: left; border: none;\">\n",
       "                fuel_gas\n",
       "            </td>\n",
       "        </tr>\n",
       "    \n",
       "        <tr style=\"background-color: hsl(120, 100.00%, 99.29%); border: none;\">\n",
       "            <td style=\"padding: 0 1em 0 0.5em; text-align: right; border: none;\">\n",
       "                0.0028\n",
       "                \n",
       "                    &plusmn; 0.0011\n",
       "                \n",
       "            </td>\n",
       "            <td style=\"padding: 0 0.5em 0 0.5em; text-align: left; border: none;\">\n",
       "                transmission_other\n",
       "            </td>\n",
       "        </tr>\n",
       "    \n",
       "        <tr style=\"background-color: hsl(120, 100.00%, 99.31%); border: none;\">\n",
       "            <td style=\"padding: 0 1em 0 0.5em; text-align: right; border: none;\">\n",
       "                0.0027\n",
       "                \n",
       "                    &plusmn; 0.0012\n",
       "                \n",
       "            </td>\n",
       "            <td style=\"padding: 0 0.5em 0 0.5em; text-align: left; border: none;\">\n",
       "                transmission_automatic\n",
       "            </td>\n",
       "        </tr>\n",
       "    \n",
       "        <tr style=\"background-color: hsl(120, 100.00%, 99.35%); border: none;\">\n",
       "            <td style=\"padding: 0 1em 0 0.5em; text-align: right; border: none;\">\n",
       "                0.0025\n",
       "                \n",
       "                    &plusmn; 0.0005\n",
       "                \n",
       "            </td>\n",
       "            <td style=\"padding: 0 0.5em 0 0.5em; text-align: left; border: none;\">\n",
       "                type_other\n",
       "            </td>\n",
       "        </tr>\n",
       "    \n",
       "        <tr style=\"background-color: hsl(120, 100.00%, 99.36%); border: none;\">\n",
       "            <td style=\"padding: 0 1em 0 0.5em; text-align: right; border: none;\">\n",
       "                0.0024\n",
       "                \n",
       "                    &plusmn; 0.0009\n",
       "                \n",
       "            </td>\n",
       "            <td style=\"padding: 0 0.5em 0 0.5em; text-align: left; border: none;\">\n",
       "                state_or\n",
       "            </td>\n",
       "        </tr>\n",
       "    \n",
       "        <tr style=\"background-color: hsl(120, 100.00%, 99.38%); border: none;\">\n",
       "            <td style=\"padding: 0 1em 0 0.5em; text-align: right; border: none;\">\n",
       "                0.0023\n",
       "                \n",
       "                    &plusmn; 0.0013\n",
       "                \n",
       "            </td>\n",
       "            <td style=\"padding: 0 0.5em 0 0.5em; text-align: left; border: none;\">\n",
       "                model_corvette\n",
       "            </td>\n",
       "        </tr>\n",
       "    \n",
       "        <tr style=\"background-color: hsl(120, 100.00%, 99.43%); border: none;\">\n",
       "            <td style=\"padding: 0 1em 0 0.5em; text-align: right; border: none;\">\n",
       "                0.0021\n",
       "                \n",
       "                    &plusmn; 0.0028\n",
       "                \n",
       "            </td>\n",
       "            <td style=\"padding: 0 0.5em 0 0.5em; text-align: left; border: none;\">\n",
       "                model_458 italia\n",
       "            </td>\n",
       "        </tr>\n",
       "    \n",
       "        <tr style=\"background-color: hsl(120, 100.00%, 99.46%); border: none;\">\n",
       "            <td style=\"padding: 0 1em 0 0.5em; text-align: right; border: none;\">\n",
       "                0.0019\n",
       "                \n",
       "                    &plusmn; 0.0013\n",
       "                \n",
       "            </td>\n",
       "            <td style=\"padding: 0 0.5em 0 0.5em; text-align: left; border: none;\">\n",
       "                model_911\n",
       "            </td>\n",
       "        </tr>\n",
       "    \n",
       "        <tr style=\"background-color: hsl(120, 100.00%, 99.47%); border: none;\">\n",
       "            <td style=\"padding: 0 1em 0 0.5em; text-align: right; border: none;\">\n",
       "                0.0018\n",
       "                \n",
       "                    &plusmn; 0.0027\n",
       "                \n",
       "            </td>\n",
       "            <td style=\"padding: 0 0.5em 0 0.5em; text-align: left; border: none;\">\n",
       "                fuel_other\n",
       "            </td>\n",
       "        </tr>\n",
       "    \n",
       "        <tr style=\"background-color: hsl(120, 100.00%, 99.50%); border: none;\">\n",
       "            <td style=\"padding: 0 1em 0 0.5em; text-align: right; border: none;\">\n",
       "                0.0017\n",
       "                \n",
       "                    &plusmn; 0.0002\n",
       "                \n",
       "            </td>\n",
       "            <td style=\"padding: 0 0.5em 0 0.5em; text-align: left; border: none;\">\n",
       "                state_ca\n",
       "            </td>\n",
       "        </tr>\n",
       "    \n",
       "        <tr style=\"background-color: hsl(120, 100.00%, 99.51%); border: none;\">\n",
       "            <td style=\"padding: 0 1em 0 0.5em; text-align: right; border: none;\">\n",
       "                0.0016\n",
       "                \n",
       "                    &plusmn; 0.0005\n",
       "                \n",
       "            </td>\n",
       "            <td style=\"padding: 0 0.5em 0 0.5em; text-align: left; border: none;\">\n",
       "                state_wa\n",
       "            </td>\n",
       "        </tr>\n",
       "    \n",
       "        <tr style=\"background-color: hsl(120, 100.00%, 99.52%); border: none;\">\n",
       "            <td style=\"padding: 0 1em 0 0.5em; text-align: right; border: none;\">\n",
       "                0.0016\n",
       "                \n",
       "                    &plusmn; 0.0014\n",
       "                \n",
       "            </td>\n",
       "            <td style=\"padding: 0 0.5em 0 0.5em; text-align: left; border: none;\">\n",
       "                model_gladiator hellcat swap sema build 1 of a kind 700hp beast\n",
       "            </td>\n",
       "        </tr>\n",
       "    \n",
       "        <tr style=\"background-color: hsl(120, 100.00%, 99.54%); border: none;\">\n",
       "            <td style=\"padding: 0 1em 0 0.5em; text-align: right; border: none;\">\n",
       "                0.0015\n",
       "                \n",
       "                    &plusmn; 0.0008\n",
       "                \n",
       "            </td>\n",
       "            <td style=\"padding: 0 0.5em 0 0.5em; text-align: left; border: none;\">\n",
       "                model_r8\n",
       "            </td>\n",
       "        </tr>\n",
       "    \n",
       "        <tr style=\"background-color: hsl(120, 100.00%, 99.55%); border: none;\">\n",
       "            <td style=\"padding: 0 1em 0 0.5em; text-align: right; border: none;\">\n",
       "                0.0015\n",
       "                \n",
       "                    &plusmn; 0.0002\n",
       "                \n",
       "            </td>\n",
       "            <td style=\"padding: 0 0.5em 0 0.5em; text-align: left; border: none;\">\n",
       "                model_wrangler\n",
       "            </td>\n",
       "        </tr>\n",
       "    \n",
       "        <tr style=\"background-color: hsl(120, 100.00%, 99.55%); border: none;\">\n",
       "            <td style=\"padding: 0 1em 0 0.5em; text-align: right; border: none;\">\n",
       "                0.0015\n",
       "                \n",
       "                    &plusmn; 0.0006\n",
       "                \n",
       "            </td>\n",
       "            <td style=\"padding: 0 0.5em 0 0.5em; text-align: left; border: none;\">\n",
       "                model_g-class g 63 amg\n",
       "            </td>\n",
       "        </tr>\n",
       "    \n",
       "        <tr style=\"background-color: hsl(120, 100.00%, 99.57%); border: none;\">\n",
       "            <td style=\"padding: 0 1em 0 0.5em; text-align: right; border: none;\">\n",
       "                0.0014\n",
       "                \n",
       "                    &plusmn; 0.0003\n",
       "                \n",
       "            </td>\n",
       "            <td style=\"padding: 0 0.5em 0 0.5em; text-align: left; border: none;\">\n",
       "                model_escalade\n",
       "            </td>\n",
       "        </tr>\n",
       "    \n",
       "        <tr style=\"background-color: hsl(120, 100.00%, 99.59%); border: none;\">\n",
       "            <td style=\"padding: 0 1em 0 0.5em; text-align: right; border: none;\">\n",
       "                0.0013\n",
       "                \n",
       "                    &plusmn; 0.0001\n",
       "                \n",
       "            </td>\n",
       "            <td style=\"padding: 0 0.5em 0 0.5em; text-align: left; border: none;\">\n",
       "                model_wrangler unlimited\n",
       "            </td>\n",
       "        </tr>\n",
       "    \n",
       "        <tr style=\"background-color: hsl(120, 100.00%, 99.59%); border: none;\">\n",
       "            <td style=\"padding: 0 1em 0 0.5em; text-align: right; border: none;\">\n",
       "                0.0013\n",
       "                \n",
       "                    &plusmn; 0.0004\n",
       "                \n",
       "            </td>\n",
       "            <td style=\"padding: 0 0.5em 0 0.5em; text-align: left; border: none;\">\n",
       "                model_tahoe\n",
       "            </td>\n",
       "        </tr>\n",
       "    \n",
       "        <tr style=\"background-color: hsl(120, 100.00%, 99.60%); border: none;\">\n",
       "            <td style=\"padding: 0 1em 0 0.5em; text-align: right; border: none;\">\n",
       "                0.0012\n",
       "                \n",
       "                    &plusmn; 0.0013\n",
       "                \n",
       "            </td>\n",
       "            <td style=\"padding: 0 0.5em 0 0.5em; text-align: left; border: none;\">\n",
       "                model_r8 v10\n",
       "            </td>\n",
       "        </tr>\n",
       "    \n",
       "        <tr style=\"background-color: hsl(120, 100.00%, 99.61%); border: none;\">\n",
       "            <td style=\"padding: 0 1em 0 0.5em; text-align: right; border: none;\">\n",
       "                0.0012\n",
       "                \n",
       "                    &plusmn; 0.0008\n",
       "                \n",
       "            </td>\n",
       "            <td style=\"padding: 0 0.5em 0 0.5em; text-align: left; border: none;\">\n",
       "                type_convertible\n",
       "            </td>\n",
       "        </tr>\n",
       "    \n",
       "        <tr style=\"background-color: hsl(120, 100.00%, 99.61%); border: none;\">\n",
       "            <td style=\"padding: 0 1em 0 0.5em; text-align: right; border: none;\">\n",
       "                0.0012\n",
       "                \n",
       "                    &plusmn; 0.0010\n",
       "                \n",
       "            </td>\n",
       "            <td style=\"padding: 0 0.5em 0 0.5em; text-align: left; border: none;\">\n",
       "                model_corvette grand sport\n",
       "            </td>\n",
       "        </tr>\n",
       "    \n",
       "        <tr style=\"background-color: hsl(120, 100.00%, 99.63%); border: none;\">\n",
       "            <td style=\"padding: 0 1em 0 0.5em; text-align: right; border: none;\">\n",
       "                0.0011\n",
       "                \n",
       "                    &plusmn; 0.0005\n",
       "                \n",
       "            </td>\n",
       "            <td style=\"padding: 0 0.5em 0 0.5em; text-align: left; border: none;\">\n",
       "                transmission_manual\n",
       "            </td>\n",
       "        </tr>\n",
       "    \n",
       "        <tr style=\"background-color: hsl(120, 100.00%, 99.66%); border: none;\">\n",
       "            <td style=\"padding: 0 1em 0 0.5em; text-align: right; border: none;\">\n",
       "                0.0010\n",
       "                \n",
       "                    &plusmn; 0.0002\n",
       "                \n",
       "            </td>\n",
       "            <td style=\"padding: 0 0.5em 0 0.5em; text-align: left; border: none;\">\n",
       "                model_1500\n",
       "            </td>\n",
       "        </tr>\n",
       "    \n",
       "        <tr style=\"background-color: hsl(120, 100.00%, 99.67%); border: none;\">\n",
       "            <td style=\"padding: 0 1em 0 0.5em; text-align: right; border: none;\">\n",
       "                0.0010\n",
       "                \n",
       "                    &plusmn; 0.0008\n",
       "                \n",
       "            </td>\n",
       "            <td style=\"padding: 0 0.5em 0 0.5em; text-align: left; border: none;\">\n",
       "                state_fl\n",
       "            </td>\n",
       "        </tr>\n",
       "    \n",
       "        <tr style=\"background-color: hsl(120, 100.00%, 99.67%); border: none;\">\n",
       "            <td style=\"padding: 0 1em 0 0.5em; text-align: right; border: none;\">\n",
       "                0.0010\n",
       "                \n",
       "                    &plusmn; 0.0004\n",
       "                \n",
       "            </td>\n",
       "            <td style=\"padding: 0 0.5em 0 0.5em; text-align: left; border: none;\">\n",
       "                type_van\n",
       "            </td>\n",
       "        </tr>\n",
       "    \n",
       "        <tr style=\"background-color: hsl(120, 100.00%, 99.67%); border: none;\">\n",
       "            <td style=\"padding: 0 1em 0 0.5em; text-align: right; border: none;\">\n",
       "                0.0009\n",
       "                \n",
       "                    &plusmn; 0.0001\n",
       "                \n",
       "            </td>\n",
       "            <td style=\"padding: 0 0.5em 0 0.5em; text-align: left; border: none;\">\n",
       "                model_renegade sport suv 4d\n",
       "            </td>\n",
       "        </tr>\n",
       "    \n",
       "        <tr style=\"background-color: hsl(120, 100.00%, 99.67%); border: none;\">\n",
       "            <td style=\"padding: 0 1em 0 0.5em; text-align: right; border: none;\">\n",
       "                0.0009\n",
       "                \n",
       "                    &plusmn; 0.0016\n",
       "                \n",
       "            </td>\n",
       "            <td style=\"padding: 0 0.5em 0 0.5em; text-align: left; border: none;\">\n",
       "                region_san diego\n",
       "            </td>\n",
       "        </tr>\n",
       "    \n",
       "        <tr style=\"background-color: hsl(120, 100.00%, 99.68%); border: none;\">\n",
       "            <td style=\"padding: 0 1em 0 0.5em; text-align: right; border: none;\">\n",
       "                0.0009\n",
       "                \n",
       "                    &plusmn; 0.0004\n",
       "                \n",
       "            </td>\n",
       "            <td style=\"padding: 0 0.5em 0 0.5em; text-align: left; border: none;\">\n",
       "                model_gt-r premium\n",
       "            </td>\n",
       "        </tr>\n",
       "    \n",
       "        <tr style=\"background-color: hsl(120, 100.00%, 99.69%); border: none;\">\n",
       "            <td style=\"padding: 0 1em 0 0.5em; text-align: right; border: none;\">\n",
       "                0.0009\n",
       "                \n",
       "                    &plusmn; 0.0002\n",
       "                \n",
       "            </td>\n",
       "            <td style=\"padding: 0 0.5em 0 0.5em; text-align: left; border: none;\">\n",
       "                model_equinox\n",
       "            </td>\n",
       "        </tr>\n",
       "    \n",
       "        <tr style=\"background-color: hsl(120, 100.00%, 99.70%); border: none;\">\n",
       "            <td style=\"padding: 0 1em 0 0.5em; text-align: right; border: none;\">\n",
       "                0.0008\n",
       "                \n",
       "                    &plusmn; 0.0001\n",
       "                \n",
       "            </td>\n",
       "            <td style=\"padding: 0 0.5em 0 0.5em; text-align: left; border: none;\">\n",
       "                model_4runner\n",
       "            </td>\n",
       "        </tr>\n",
       "    \n",
       "        <tr style=\"background-color: hsl(120, 100.00%, 99.70%); border: none;\">\n",
       "            <td style=\"padding: 0 1em 0 0.5em; text-align: right; border: none;\">\n",
       "                0.0008\n",
       "                \n",
       "                    &plusmn; 0.0020\n",
       "                \n",
       "            </td>\n",
       "            <td style=\"padding: 0 0.5em 0 0.5em; text-align: left; border: none;\">\n",
       "                model_taycan turbo s\n",
       "            </td>\n",
       "        </tr>\n",
       "    \n",
       "        <tr style=\"background-color: hsl(120, 100.00%, 99.70%); border: none;\">\n",
       "            <td style=\"padding: 0 1em 0 0.5em; text-align: right; border: none;\">\n",
       "                0.0008\n",
       "                \n",
       "                    &plusmn; 0.0006\n",
       "                \n",
       "            </td>\n",
       "            <td style=\"padding: 0 0.5em 0 0.5em; text-align: left; border: none;\">\n",
       "                state_mt\n",
       "            </td>\n",
       "        </tr>\n",
       "    \n",
       "        <tr style=\"background-color: hsl(120, 100.00%, 99.70%); border: none;\">\n",
       "            <td style=\"padding: 0 1em 0 0.5em; text-align: right; border: none;\">\n",
       "                0.0008\n",
       "                \n",
       "                    &plusmn; 0.0010\n",
       "                \n",
       "            </td>\n",
       "            <td style=\"padding: 0 0.5em 0 0.5em; text-align: left; border: none;\">\n",
       "                model_corvette performance 3\n",
       "            </td>\n",
       "        </tr>\n",
       "    \n",
       "    \n",
       "        \n",
       "            <tr style=\"background-color: hsl(120, 100.00%, 99.70%); border: none;\">\n",
       "                <td colspan=\"2\" style=\"padding: 0 0.5em 0 0.5em; text-align: center; border: none; white-space: nowrap;\">\n",
       "                    <i>&hellip; 13523 more &hellip;</i>\n",
       "                </td>\n",
       "            </tr>\n",
       "        \n",
       "    \n",
       "    </tbody>\n",
       "</table>\n",
       "    \n",
       "\n",
       "    \n",
       "\n",
       "\n",
       "    \n",
       "\n",
       "    \n",
       "\n",
       "    \n",
       "\n",
       "    \n",
       "\n",
       "    \n",
       "\n",
       "    \n",
       "\n",
       "\n",
       "\n"
      ],
      "text/plain": [
       "Explanation(estimator='RandomForestRegressor(max_depth=1000, n_estimators=10)', description='\\nRandom forest feature importances; values are numbers 0 <= x <= 1;\\nall values sum to 1.\\n', error=None, method='feature importances', is_regression=True, targets=None, feature_importances=FeatureImportances(importances=[FeatureWeight(feature='Age', weight=0.33013468744778923, std=0.00366455080703507, value=None), FeatureWeight(feature='drive_fwd', weight=0.19115125160108662, std=0.00309436224440198, value=None), FeatureWeight(feature='odometer', weight=0.13931761633260142, std=0.002002050084344589, value=None), FeatureWeight(feature='fuel_diesel', weight=0.06093123679782365, std=0.002552022624054995, value=None), FeatureWeight(feature='type_pickup', weight=0.015854246853684948, std=0.0009853394633463745, value=None), FeatureWeight(feature='type_truck', weight=0.012300966884739526, std=0.0006178535075384664, value=None), FeatureWeight(feature='Class_Class C', weight=0.008248575863646692, std=0.0027099391302916015, value=None), FeatureWeight(feature='index', weight=0.00702113705907237, std=0.000262479009278576, value=None), FeatureWeight(feature='Class_Class A', weight=0.0056738755894121, std=0.0010163583781828205, value=None), FeatureWeight(feature='type_sedan', weight=0.005141138062924696, std=0.0005407885869425585, value=None), FeatureWeight(feature='drive_4wd', weight=0.004789741803681804, std=0.0014981148767505054, value=None), FeatureWeight(feature='Class_Class B', weight=0.0038919401835210907, std=0.0020979090583948035, value=None), FeatureWeight(feature='type_SUV', weight=0.003859020406607233, std=0.0004030639225363974, value=None), FeatureWeight(feature='drive_rwd', weight=0.003732355721596122, std=0.0008182242092137865, value=None), FeatureWeight(feature='type_coupe', weight=0.003316019464378529, std=0.0009687715179768047, value=None), FeatureWeight(feature='type_hatchback', weight=0.0031235743845711827, std=0.0002481876512715788, value=None), FeatureWeight(feature='model_g-class', weight=0.003070729172755738, std=0.0012156677330928988, value=None), FeatureWeight(feature='fuel_gas', weight=0.0030036420231661916, std=0.0008692061335699021, value=None), FeatureWeight(feature='transmission_other', weight=0.0027906922962490895, std=0.0005380701075840955, value=None), FeatureWeight(feature='transmission_automatic', weight=0.0026734929180828007, std=0.0006037423539442663, value=None), FeatureWeight(feature='type_other', weight=0.0024613698228705206, std=0.00026796385668456516, value=None), FeatureWeight(feature='state_or', weight=0.002395847335374204, std=0.0004268527851103589, value=None), FeatureWeight(feature='model_corvette', weight=0.0023005619760395513, std=0.0006697241821983848, value=None), FeatureWeight(feature='model_458 italia', weight=0.0020649892155421967, std=0.0013848601469244604, value=None), FeatureWeight(feature='model_911', weight=0.0019112937045939837, std=0.0006593504148713332, value=None), FeatureWeight(feature='fuel_other', weight=0.0018491861655028047, std=0.001367293430367263, value=None), FeatureWeight(feature='state_ca', weight=0.0016829874773731128, std=0.0001151995901948778, value=None), FeatureWeight(feature='state_wa', weight=0.001647949086934023, std=0.00027221041679904986, value=None), FeatureWeight(feature='model_gladiator hellcat swap sema build 1 of a kind 700hp beast', weight=0.0015966246053721643, std=0.0006784410870710216, value=None), FeatureWeight(feature='model_r8', weight=0.0015203311243602237, std=0.000397668967507514, value=None), FeatureWeight(feature='model_wrangler', weight=0.0014603399970714694, std=8.443147054894046e-05, value=None), FeatureWeight(feature='model_g-class g 63 amg', weight=0.0014595000246015648, std=0.0002941674744859908, value=None), FeatureWeight(feature='model_escalade', weight=0.001354224199320527, std=0.00015190342591122493, value=None), FeatureWeight(feature='model_wrangler unlimited', weight=0.0012819112917230259, std=6.357160976452882e-05, value=None), FeatureWeight(feature='model_tahoe', weight=0.0012771200972190424, std=0.0001868382552316002, value=None), FeatureWeight(feature='model_r8 v10', weight=0.001234987142333528, std=0.0006405635431431672, value=None), FeatureWeight(feature='type_convertible', weight=0.0012069326861932576, std=0.00038077680196594964, value=None), FeatureWeight(feature='model_corvette grand sport', weight=0.0011951851687950676, std=0.000491649285001262, value=None), FeatureWeight(feature='transmission_manual', weight=0.0011073720690081017, std=0.00026842849824179474, value=None), FeatureWeight(feature='model_1500', weight=0.0009855367719348062, std=0.00011947206267403961, value=None), FeatureWeight(feature='state_fl', weight=0.0009567932515561202, std=0.00038202972821080593, value=None), FeatureWeight(feature='type_van', weight=0.0009561950002532373, std=0.0002196418643582055, value=None), FeatureWeight(feature='model_renegade sport suv 4d', weight=0.0009457732448481791, std=4.8480941857070685e-05, value=None), FeatureWeight(feature='region_san diego', weight=0.0009255914818205337, std=0.0007835864593778044, value=None), FeatureWeight(feature='model_gt-r premium', weight=0.000892939074636364, std=0.00021825301862303067, value=None), FeatureWeight(feature='model_equinox', weight=0.0008590962918208545, std=9.7086622791682e-05, value=None), FeatureWeight(feature='model_4runner', weight=0.0008371592277740085, std=7.344895191244835e-05, value=None), FeatureWeight(feature='model_taycan turbo s', weight=0.0008309377091321252, std=0.0010234896772017134, value=None), FeatureWeight(feature='state_mt', weight=0.0008230716536488997, std=0.0003200552974874122, value=None), FeatureWeight(feature='model_corvette performance 3', weight=0.0008217302197284765, std=0.0004827011025556122, value=None)], remaining=13523), decision_tree=None, highlight_spaces=None, transition_features=None, image=None)"
      ]
     },
     "execution_count": 13,
     "metadata": {},
     "output_type": "execute_result"
    }
   ],
   "source": [
    "onehot_columns=clf.named_steps['preprocessor'].transformers_[1][1]\\\n",
    "   .named_steps['one_hot'].get_feature_names(categorical_features)\n",
    "\n",
    "numeric_features_list = list(numeric_features)\n",
    "numeric_features_list.extend(onehot_columns)\n",
    "\n",
    "import eli5\n",
    "eli5.explain_weights(clf.named_steps['RandomDecisionTreeRegressor'], top=50, feature_names=numeric_features_list, feature_filter=lambda x: x != '<BIAS>')"
   ]
  },
  {
   "cell_type": "markdown",
   "metadata": {},
   "source": [
    "**c) What are the top 3 features (most powerful predictors)? Does it make sense?**\n",
    "\n",
    "Here, I managed to find a way to display all the coefficient of the feature_importances_ with the column name. We found immediately that the result are comparable to the first one. We also, can notice that the top 3 features are AGE, drive_fwd and odometer which makes perfect sense. Age and odometer make perfect sense because as the car gets older, it will get cheaper. Also, front wheel cars are moslty fast cars which are usually expensive.\n",
    "\n",
    "(question b is answered later on)"
   ]
  },
  {
   "cell_type": "code",
   "execution_count": 14,
   "metadata": {},
   "outputs": [
    {
     "data": {
      "text/html": [
       "<div>\n",
       "<style scoped>\n",
       "    .dataframe tbody tr th:only-of-type {\n",
       "        vertical-align: middle;\n",
       "    }\n",
       "\n",
       "    .dataframe tbody tr th {\n",
       "        vertical-align: top;\n",
       "    }\n",
       "\n",
       "    .dataframe thead th {\n",
       "        text-align: right;\n",
       "    }\n",
       "</style>\n",
       "<table border=\"1\" class=\"dataframe\">\n",
       "  <thead>\n",
       "    <tr style=\"text-align: right;\">\n",
       "      <th></th>\n",
       "      <th>Coeff</th>\n",
       "      <th>Feautre</th>\n",
       "    </tr>\n",
       "  </thead>\n",
       "  <tbody>\n",
       "    <tr>\n",
       "      <th>2</th>\n",
       "      <td>0.330135</td>\n",
       "      <td>Age</td>\n",
       "    </tr>\n",
       "    <tr>\n",
       "      <th>13</th>\n",
       "      <td>0.191151</td>\n",
       "      <td>drive_fwd</td>\n",
       "    </tr>\n",
       "    <tr>\n",
       "      <th>1</th>\n",
       "      <td>0.139318</td>\n",
       "      <td>odometer</td>\n",
       "    </tr>\n",
       "    <tr>\n",
       "      <th>4</th>\n",
       "      <td>0.060931</td>\n",
       "      <td>fuel_diesel</td>\n",
       "    </tr>\n",
       "    <tr>\n",
       "      <th>23</th>\n",
       "      <td>0.015854</td>\n",
       "      <td>type_pickup</td>\n",
       "    </tr>\n",
       "    <tr>\n",
       "      <th>...</th>\n",
       "      <td>...</td>\n",
       "      <td>...</td>\n",
       "    </tr>\n",
       "    <tr>\n",
       "      <th>4486</th>\n",
       "      <td>0.000000</td>\n",
       "      <td>model_diesels cummins</td>\n",
       "    </tr>\n",
       "    <tr>\n",
       "      <th>4484</th>\n",
       "      <td>0.000000</td>\n",
       "      <td>model_diesels 5.9 slt</td>\n",
       "    </tr>\n",
       "    <tr>\n",
       "      <th>4483</th>\n",
       "      <td>0.000000</td>\n",
       "      <td>model_diesel rabbit truck</td>\n",
       "    </tr>\n",
       "    <tr>\n",
       "      <th>4482</th>\n",
       "      <td>0.000000</td>\n",
       "      <td>model_diesel pickup</td>\n",
       "    </tr>\n",
       "    <tr>\n",
       "      <th>488</th>\n",
       "      <td>0.000000</td>\n",
       "      <td>model_-sale pending-wrangler spor</td>\n",
       "    </tr>\n",
       "  </tbody>\n",
       "</table>\n",
       "<p>13573 rows × 2 columns</p>\n",
       "</div>"
      ],
      "text/plain": [
       "         Coeff                            Feautre\n",
       "2     0.330135                                Age\n",
       "13    0.191151                          drive_fwd\n",
       "1     0.139318                           odometer\n",
       "4     0.060931                        fuel_diesel\n",
       "23    0.015854                        type_pickup\n",
       "...        ...                                ...\n",
       "4486  0.000000              model_diesels cummins\n",
       "4484  0.000000              model_diesels 5.9 slt\n",
       "4483  0.000000          model_diesel rabbit truck\n",
       "4482  0.000000                model_diesel pickup\n",
       "488   0.000000  model_-sale pending-wrangler spor\n",
       "\n",
       "[13573 rows x 2 columns]"
      ]
     },
     "execution_count": 14,
     "metadata": {},
     "output_type": "execute_result"
    }
   ],
   "source": [
    "onehot_columns = onehot_columns.tolist()\n",
    "Features=[\"index\",\"odometer\",\"Age\",\"Odermeter_year\"]+onehot_columns\n",
    "\n",
    "imp=clf.named_steps['RandomDecisionTreeRegressor'].feature_importances_ \n",
    "df2 = pd.DataFrame(imp, columns = ['Coeff'])\n",
    "df3=pd.DataFrame(Features, columns = ['Column_B'])\n",
    "df2[\"Feautre\"]=df3[\"Column_B\"]\n",
    "df2.sort_values(by=['Coeff'],ascending=False)"
   ]
  },
  {
   "cell_type": "markdown",
   "metadata": {},
   "source": [
    "Here, the RFECV was made. Please not that i have done the preprocessing before training, which may lead to some data leakage. The thing is, I was struggling with and error, and that the preprocessing should be done before using RFECV."
   ]
  },
  {
   "cell_type": "code",
   "execution_count": 36,
   "metadata": {},
   "outputs": [],
   "source": [
    "from sklearn.ensemble import RandomForestRegressor\n",
    "from sklearn.pipeline import Pipeline\n",
    "from sklearn.impute import SimpleImputer\n",
    "from sklearn.preprocessing import StandardScaler, OneHotEncoder\n",
    "from sklearn.feature_selection import RFECV\n",
    "\n",
    "Y=df_imp.price\n",
    "X=df_imp.drop(['price','manufacturer'], axis = 1)\n",
    "numeric_features = list(X.select_dtypes(include=[np.number]))\n",
    "categorical_features = list(X.select_dtypes(exclude=[np.number]))\n",
    "numeric_transformer = Pipeline(steps=[\n",
    "    ('imputer', SimpleImputer(strategy='median')),\n",
    "    ('scaler', StandardScaler())])\n",
    "\n",
    "categorical_transformer = Pipeline(steps=[('one_hot', OneHotEncoder(handle_unknown='ignore'))])\n",
    "preprocessor = ColumnTransformer(\n",
    "    transformers=[\n",
    "        ('num', numeric_transformer, numeric_features),\n",
    "        ('cat', categorical_transformer, categorical_features)])\n",
    "\n",
    "X=preprocessor.fit_transform(X)"
   ]
  },
  {
   "cell_type": "markdown",
   "metadata": {},
   "source": [
    " Here, I decided to go with 3 time cross validation just because I did not want the training to take too long. I also  increased the step to 1000. We notice that the optimal number of features suggested was at 10573. I was able to find the indices of these features as well, using np.where. I decided to compare these with how many feature with coefficient 0 we foun on the feature importance. We will see the result next."
   ]
  },
  {
   "cell_type": "code",
   "execution_count": 37,
   "metadata": {},
   "outputs": [
    {
     "name": "stdout",
     "output_type": "stream",
     "text": [
      "Fitting estimator with 13573 features.\n",
      "Fitting estimator with 12573 features.\n",
      "Fitting estimator with 11573 features.\n",
      "RFECV(cv=3, estimator=RandomForestRegressor(max_depth=1000, n_estimators=10),\n",
      "      n_jobs=-1, scoring='neg_root_mean_squared_error', step=1000, verbose=1)\n",
      "10573\n"
     ]
    }
   ],
   "source": [
    "#I will be doing 3 time cross validation in here just to make it easire to train\n",
    "dtree= RandomForestRegressor(n_estimators=10, max_depth=1000, bootstrap=True)\n",
    "rfecv=RFECV(dtree,step=1000,scoring=\"neg_root_mean_squared_error\",cv=3,verbose=1, n_jobs=-1)\n",
    "\n",
    "rfecv.fit(X, Y)\n",
    "rfecv.transform(X)\n",
    "print(rfecv)\n",
    "print(rfecv.n_features_)"
   ]
  },
  {
   "cell_type": "markdown",
   "metadata": {},
   "source": [
    "Here, the compariso was made. We had 1549 of features that had 0 as coefficient of importance. Between these, 694 were selected by the RFCEV, which is about 50%"
   ]
  },
  {
   "cell_type": "code",
   "execution_count": 30,
   "metadata": {
    "scrolled": true
   },
   "outputs": [
    {
     "data": {
      "text/plain": [
       "(1549, 2)"
      ]
     },
     "execution_count": 30,
     "metadata": {},
     "output_type": "execute_result"
    }
   ],
   "source": [
    "df2[df2[\"Coeff\"]==0].shape"
   ]
  },
  {
   "cell_type": "code",
   "execution_count": 60,
   "metadata": {},
   "outputs": [
    {
     "data": {
      "text/plain": [
       "(694, 2)"
      ]
     },
     "execution_count": 60,
     "metadata": {},
     "output_type": "execute_result"
    }
   ],
   "source": [
    "toberemoved=np.where(rfecv.support_==False)[0]\n",
    "update_df = df2.drop(toberemoved)\n",
    "update_df[update_df[\"Coeff\"]==0].shape"
   ]
  },
  {
   "cell_type": "markdown",
   "metadata": {},
   "source": [
    "As i mentionned before, I will be fousing mainly on the feature_importances_ to do the features selection. Since these features are mostly categories, I have decided to replace them all by \"other\" in the initial dataframe. This way, when the one hot encoding happens, we will have a considerable decrease in the number of features."
   ]
  },
  {
   "cell_type": "code",
   "execution_count": 34,
   "metadata": {},
   "outputs": [],
   "source": [
    "df_0=df2[df2[\"Coeff\"]==0]"
   ]
  },
  {
   "cell_type": "code",
   "execution_count": 36,
   "metadata": {},
   "outputs": [],
   "source": [
    "df_0[[\"Column\",\"Feature_Cat\"]]= df_0.Feautre.str.split(\"_\",expand=True)"
   ]
  },
  {
   "cell_type": "code",
   "execution_count": 41,
   "metadata": {},
   "outputs": [],
   "source": [
    "df_0.drop([\"Feautre\"], inplace=True, axis=1)"
   ]
  },
  {
   "cell_type": "code",
   "execution_count": 44,
   "metadata": {},
   "outputs": [],
   "source": [
    "listings_=df_0[\"Feature_Cat\"].tolist()"
   ]
  },
  {
   "cell_type": "code",
   "execution_count": 307,
   "metadata": {},
   "outputs": [],
   "source": [
    "df_imp=df[[\"price\",\"year\",\"condition\",\"cylinders\",\"fuel\",\"odometer\",\"transmission\",\"drive\",\"type\",\"posting_date\",\"state\",\"region\",\"manufacturer\", \"model\"]]\n",
    "df_imp.replace(to_replace =listings_, \n",
    "                            value =\"other\",inplace=True)\n",
    "#Creating the Age variable\n",
    "df_imp[[\"Date\",\"Time\"]]= df_imp[\"posting_date\"].astype(str).str.split(\"T\", expand = True)\n",
    "df_imp.pop(\"posting_date\")\n",
    "df_imp.pop(\"Time\")\n",
    "df_imp['Date'] = df_imp['Date'].astype('datetime64[ns]')\n",
    "df_imp['Date'] = df_imp['Date'].dt.year\n",
    "df_imp[\"Age\"]=df_imp['Date']-df_imp['year']\n",
    "df_imp.pop(\"Date\")\n",
    "df_imp=df_imp[df_imp[\"price\"]>1000]\n",
    "df_imp=df_imp[df_imp[\"price\"]<200000]\n",
    "df_imp=df_imp[df_imp[\"odometer\"]>1000]\n",
    "df_imp=df_imp[df_imp[\"odometer\"]<200000]\n",
    "#I will be removing columns with more than 30% nas\n",
    "df_imp = df_imp.loc[:, df_imp.isnull().mean() <= 0.3]\n",
    "#I will be dropping all the Na rows in categorical variables\n",
    "df_imp.dropna(subset=['drive', 'type','transmission','fuel',\"manufacturer\",\"model\"], inplace=True)\n",
    "\n",
    "df_imp.pop(\"year\")\n",
    "ClassA=[\"porsche\",\"porsche\",\"tesla\",\"jaguar\",\"ferrari\",\"morgan\",\"hennessey\"]\n",
    "ClassB=[\"bmw\",\"dodge\",\"mercedes-benz\",\"jeep\",\"ram\",\"chevrolet\",\"cadillac\",\"gmc\",\"volkswagen\",\"audi\",\"lexus\",\"infiniti\",\"chrysler\",\"rover\",\"alpha-romeo\"\n",
    "\"harley-davidson\",\"land rover\"]\n",
    "def classifier(row):\n",
    "    if row['manufacturer'] in ClassA:\n",
    "        val = \"Class A\"\n",
    "    elif row['manufacturer'] in ClassB:\n",
    "        val = \"Class B\"\n",
    "    else:\n",
    "        val=\"Class C\"\n",
    "    return val\n",
    "df_imp['Class'] = df_imp.apply(classifier, axis=1)\n",
    "df_imp=df_imp.reset_index()\n",
    "\n",
    "#Creating the new column.\n",
    "df_imp[\"Odermeter_year\"]=round(df_imp[\"Age\"]/df_imp[\"odometer\"],2)\n",
    "\n",
    "Y=df_imp.price\n",
    "X=df_imp.drop(['price','manufacturer'], axis = 1)\n",
    "numeric_features = list(X.select_dtypes(include=[np.number]))\n",
    "categorical_features = list(X.select_dtypes(exclude=[np.number]))\n",
    "numeric_transformer = Pipeline(steps=[\n",
    "    ('imputer', SimpleImputer(strategy='median')),\n",
    "    ('scaler', StandardScaler())])\n",
    "\n",
    "categorical_transformer = OneHotEncoder(handle_unknown='ignore')\n",
    "\n",
    "preprocessor = ColumnTransformer(\n",
    "    transformers=[\n",
    "        ('num', numeric_transformer, numeric_features),\n",
    "        ('cat', categorical_transformer, categorical_features)])\n",
    "clf2 = Pipeline(steps=[('preprocessor',preprocessor), ('RandomDecisionTreeRegressor', RandomForestRegressor(n_estimators=10, max_depth=1000, bootstrap=True))])"
   ]
  },
  {
   "cell_type": "markdown",
   "metadata": {},
   "source": [
    "**b) Report the percentage reduction in feature size and the RMSE for the selected feature set**\n",
    "\n",
    "**I tested, to see whether there is an effect on the RMSE. It turns out that the RMSE was affected by about 20, which around 1% decrease. This is good, since we reduced the number of features to around 10% decrease.**"
   ]
  },
  {
   "cell_type": "code",
   "execution_count": 308,
   "metadata": {},
   "outputs": [
    {
     "name": "stdout",
     "output_type": "stream",
     "text": [
      "The mean is 4388.04630652641 and the standard deviation is 111.74404961024011\n"
     ]
    }
   ],
   "source": [
    "#RMSE decreased slightly\n",
    "cv = cross_val_score(clf2, X, Y, cv = 5,scoring='neg_root_mean_squared_error')\n",
    "print(\"The mean is {} and the standard deviation is {}\".format(abs(cv.mean()),cv.std()))"
   ]
  },
  {
   "cell_type": "markdown",
   "metadata": {},
   "source": [
    "# Pipeline, Interpretable Model, and Final Testing."
   ]
  },
  {
   "cell_type": "markdown",
   "metadata": {},
   "source": [
    "**a)But before your final evaluation try to further optimize the parameters of an interpretable model (e.g., Decision Tree or Linear Regression) and get it to achieve a comparable performance to your best model (in step 3):**\n",
    "\n",
    "**o Use the pipeline and GridSearchCV for this task**\n",
    "\n",
    "**o Discuss your findings and select your final model for deployment (testing)**"
   ]
  },
  {
   "cell_type": "markdown",
   "metadata": {},
   "source": [
    "We started first by removing the outliers and such. I thought about not including these in the pipeline."
   ]
  },
  {
   "cell_type": "code",
   "execution_count": 325,
   "metadata": {
    "collapsed": true
   },
   "outputs": [
    {
     "name": "stdout",
     "output_type": "stream",
     "text": [
      "<class 'pandas.core.frame.DataFrame'>\n",
      "Int64Index: 152590 entries, 0 to 320744\n",
      "Data columns (total 12 columns):\n",
      " #   Column        Non-Null Count   Dtype  \n",
      "---  ------        --------------   -----  \n",
      " 0   price         152590 non-null  int64  \n",
      " 1   year          152590 non-null  float64\n",
      " 2   fuel          152590 non-null  object \n",
      " 3   odometer      152590 non-null  float64\n",
      " 4   transmission  152590 non-null  object \n",
      " 5   drive         152590 non-null  object \n",
      " 6   type          152590 non-null  object \n",
      " 7   state         152590 non-null  object \n",
      " 8   region        152590 non-null  object \n",
      " 9   manufacturer  152590 non-null  object \n",
      " 10  model         152590 non-null  object \n",
      " 11  Date          152590 non-null  int64  \n",
      "dtypes: float64(2), int64(2), object(8)\n",
      "memory usage: 15.1+ MB\n"
     ]
    }
   ],
   "source": [
    "df_imp=df[[\"price\",\"year\",\"fuel\",\"odometer\",\"transmission\",\"drive\",\"type\",\"posting_date\",\"state\",\"region\",\"manufacturer\", \"model\"]]\n",
    "#Creating the Age variable\n",
    "\n",
    "df_imp=df_imp[df_imp[\"price\"]>1000]\n",
    "df_imp=df_imp[df_imp[\"price\"]<200000]\n",
    "df_imp=df_imp[df_imp[\"odometer\"]>1000]\n",
    "df_imp=df_imp[df_imp[\"odometer\"]<200000]\n",
    "\n",
    "df_imp[[\"Date\",\"Time\"]]= df_imp[\"posting_date\"].astype(str).str.split(\"T\", expand = True)\n",
    "df_imp.pop(\"posting_date\")\n",
    "df_imp.pop(\"Time\")\n",
    "df_imp['Date'] = df_imp['Date'].astype('datetime64[ns]')\n",
    "df_imp['Date'] = df_imp['Date'].dt.year\n",
    "\n",
    "\n",
    "\n",
    "df_imp.dropna(subset=['drive', 'type','transmission','fuel',\"manufacturer\",\"model\"], inplace=True)\n",
    "df_imp.info()"
   ]
  },
  {
   "cell_type": "markdown",
   "metadata": {},
   "source": [
    "Here, we created a custom transformer that will create the class A,B,C for us. Keep in mind that this also replace all the not so relevant categories to other, so it takes care of the feature selection"
   ]
  },
  {
   "cell_type": "code",
   "execution_count": 399,
   "metadata": {},
   "outputs": [],
   "source": [
    "def Categorical(X):\n",
    "    Feature_DF=pd.DataFrame(X)\n",
    "    Feature_DF.replace(to_replace =listings_, value =\"other\",inplace=True)\n",
    "    X=Feature_DF.values\n",
    "    model_df=pd.DataFrame(X[:,6], columns=['manufacturer'])\n",
    "    model_ClassABC=model_df.apply(classifier, axis=1)\n",
    "    Class_ABC=model_ClassABC.values\n",
    "    return np.c_[np.delete(X,6,axis=1),Class_ABC]\n",
    "    \n",
    "Categorical_ = FunctionTransformer(Categorical,validate=False)"
   ]
  },
  {
   "cell_type": "markdown",
   "metadata": {},
   "source": [
    "Here, did the testing and we found out that it worked."
   ]
  },
  {
   "cell_type": "code",
   "execution_count": 362,
   "metadata": {},
   "outputs": [
    {
     "data": {
      "text/plain": [
       "array([['gas', 'automatic', 'rwd', ..., 'indianapolis', 'lse', 'Class C'],\n",
       "       ['gas', 'automatic', '4wd', ..., 'medford-ashland', 'impreza',\n",
       "        'Class C'],\n",
       "       ['gas', 'automatic', 'rwd', ..., 'austin', 'cayman gts coupe 2d',\n",
       "        'Class A'],\n",
       "       ...,\n",
       "       ['gas', 'automatic', 'fwd', ..., 'sioux falls / SE SD', 'equinox',\n",
       "        'Class B'],\n",
       "       ['gas', 'automatic', 'fwd', ..., 'clovis / portales', 'impala ls',\n",
       "        'Class B'],\n",
       "       ['gas', 'automatic', '4wd', ..., 'flint', 'ranger', 'Class C']],\n",
       "      dtype=object)"
      ]
     },
     "execution_count": 362,
     "metadata": {},
     "output_type": "execute_result"
    }
   ],
   "source": [
    "X=df_imp\n",
    "X.select_dtypes(exclude=[np.number]).values[:,6]\n",
    "train_extra_attribs = Categorical_.fit_transform(X.select_dtypes(exclude=[np.number]).values)\n",
    "train_extra_attribs"
   ]
  },
  {
   "cell_type": "markdown",
   "metadata": {},
   "source": [
    "We did one for the calculation of the numerical values, such as the age and odometer_year"
   ]
  },
  {
   "cell_type": "code",
   "execution_count": 388,
   "metadata": {},
   "outputs": [],
   "source": [
    "def Numerical(X):\n",
    "    Age1=(X[:,2])-(X[:,0])\n",
    "    Odometer_year= Age1/X[:,1]\n",
    "    return np.c_[np.delete(X,2,axis=1), Age1, Odometer_year]\n",
    "Numerical_=FunctionTransformer(Numerical,validate=False)"
   ]
  },
  {
   "cell_type": "markdown",
   "metadata": {},
   "source": [
    "Finally, here we just included our transformers in the pipeline."
   ]
  },
  {
   "cell_type": "code",
   "execution_count": 415,
   "metadata": {},
   "outputs": [],
   "source": [
    "\n",
    "\n",
    "Y=df_imp.price\n",
    "X=df_imp.drop(['price',], axis = 1)\n",
    "numeric_features = list(X.select_dtypes(include=[np.number]))\n",
    "categorical_features = list(X.select_dtypes(exclude=[np.number]))\n",
    "numeric_transformer = Pipeline(steps=[\n",
    "    ('imputer', SimpleImputer(strategy='median')),\n",
    "    ('My_trans',FunctionTransformer(Numerical)),\n",
    "    ('scaler', StandardScaler())])\n",
    "\n",
    "categorical_transformer = Pipeline(steps=[('imputer', SimpleImputer(strategy='most_frequent')),\n",
    "                                            ('My_trans2',FunctionTransformer(Categorical)),\n",
    "                                           ('one_hot', OneHotEncoder(handle_unknown='ignore'))])\n",
    "\n",
    "preprocessor = ColumnTransformer(\n",
    "    transformers=[\n",
    "        ('num', numeric_transformer, numeric_features),\n",
    "        ('cat', categorical_transformer, categorical_features)])\n",
    "clf2 = Pipeline(steps=[('preprocessor',preprocessor), ('LinearRegression', Lasso())])"
   ]
  },
  {
   "cell_type": "markdown",
   "metadata": {},
   "source": [
    "Tested if everyting worked out on the linear Regression. It turns out that yes, since we got comparable result with the one without feautre selection in it, in Part 2."
   ]
  },
  {
   "cell_type": "code",
   "execution_count": 402,
   "metadata": {},
   "outputs": [
    {
     "name": "stdout",
     "output_type": "stream",
     "text": [
      "The mean is 5486.570448746308 and the standard deviation is 77.86495254605767\n"
     ]
    }
   ],
   "source": [
    "#RMSE decreased slightly\n",
    "cv = cross_val_score(clf2, X, Y, cv = 5,scoring='neg_root_mean_squared_error')\n",
    "print(\"The mean is {} and the standard deviation is {}\".format(abs(cv.mean()),cv.std()))"
   ]
  },
  {
   "cell_type": "markdown",
   "metadata": {},
   "source": [
    "**To answer question 5a completely, i have decided to use lass linear regression, which also an interpretable model that have some hyper parameters to play with, unlike Linear regression. After playing with the parameters, it turned out that it was hard to get the results that I have got with the random forest and so I will be sticking with random forest**"
   ]
  },
  {
   "cell_type": "code",
   "execution_count": 419,
   "metadata": {
    "collapsed": true
   },
   "outputs": [
    {
     "data": {
      "text/plain": [
       "GridSearchCV(cv=5,\n",
       "             estimator=Pipeline(steps=[('preprocessor',\n",
       "                                        ColumnTransformer(transformers=[('num',\n",
       "                                                                         Pipeline(steps=[('imputer',\n",
       "                                                                                          SimpleImputer(strategy='median')),\n",
       "                                                                                         ('My_trans',\n",
       "                                                                                          FunctionTransformer(func=<function Numerical at 0x000001FF4054C678>)),\n",
       "                                                                                         ('scaler',\n",
       "                                                                                          StandardScaler())]),\n",
       "                                                                         ['index',\n",
       "                                                                          'odometer',\n",
       "                                                                          'Age',\n",
       "                                                                          'Odermeter_year']),\n",
       "                                                                        ('cat',\n",
       "                                                                         Pipeline(steps=[('imputer',\n",
       "                                                                                          Si...\n",
       "                                                                                          FunctionTransformer(func=<function Categorical at 0x000001FF4054CE58>)),\n",
       "                                                                                         ('one_hot',\n",
       "                                                                                          OneHotEncoder(handle_unknown='ignore'))]),\n",
       "                                                                         ['fuel',\n",
       "                                                                          'transmission',\n",
       "                                                                          'drive',\n",
       "                                                                          'type',\n",
       "                                                                          'state',\n",
       "                                                                          'region',\n",
       "                                                                          'manufacturer',\n",
       "                                                                          'model',\n",
       "                                                                          'Class'])])),\n",
       "                                       ('LinearRegression', Lasso())]),\n",
       "             n_jobs=-1,\n",
       "             param_grid={'LinearRegression__alpha': [5, 0.5, 0.05, 0.0005, 1,\n",
       "                                                     0.1]},\n",
       "             scoring='neg_root_mean_squared_error')"
      ]
     },
     "execution_count": 419,
     "metadata": {},
     "output_type": "execute_result"
    }
   ],
   "source": [
    "param_grid = {\n",
    "    'LinearRegression__alpha': [5, 0.5, 0.05, 0.0005, 1, 0.1]\n",
    "}\n",
    "search = GridSearchCV(clf2, param_grid=param_grid, cv=5,scoring='neg_root_mean_squared_error',n_jobs=-1)\n",
    "search.fit(X,Y)"
   ]
  },
  {
   "cell_type": "code",
   "execution_count": 423,
   "metadata": {},
   "outputs": [
    {
     "data": {
      "text/plain": [
       "5959.517291685543"
      ]
     },
     "execution_count": 423,
     "metadata": {},
     "output_type": "execute_result"
    }
   ],
   "source": [
    "abs(search.best_score_)"
   ]
  },
  {
   "cell_type": "markdown",
   "metadata": {},
   "source": [
    "Now, we will be importing the test data and perform our final testing."
   ]
  },
  {
   "cell_type": "code",
   "execution_count": 439,
   "metadata": {},
   "outputs": [],
   "source": [
    "test=pd.read_csv(\"cars_test.csv\")"
   ]
  },
  {
   "cell_type": "markdown",
   "metadata": {},
   "source": [
    "Importing the test data and removing outliers from it."
   ]
  },
  {
   "cell_type": "code",
   "execution_count": 448,
   "metadata": {
    "collapsed": true
   },
   "outputs": [
    {
     "name": "stdout",
     "output_type": "stream",
     "text": [
      "<class 'pandas.core.frame.DataFrame'>\n",
      "Int64Index: 65408 entries, 2 to 137461\n",
      "Data columns (total 12 columns):\n",
      " #   Column        Non-Null Count  Dtype  \n",
      "---  ------        --------------  -----  \n",
      " 0   price         65408 non-null  int64  \n",
      " 1   year          65405 non-null  float64\n",
      " 2   fuel          65408 non-null  object \n",
      " 3   odometer      65408 non-null  float64\n",
      " 4   transmission  65408 non-null  object \n",
      " 5   drive         65408 non-null  object \n",
      " 6   type          65408 non-null  object \n",
      " 7   state         65408 non-null  object \n",
      " 8   region        65408 non-null  object \n",
      " 9   manufacturer  65408 non-null  object \n",
      " 10  model         65408 non-null  object \n",
      " 11  Date          65408 non-null  int64  \n",
      "dtypes: float64(2), int64(2), object(8)\n",
      "memory usage: 6.5+ MB\n"
     ]
    }
   ],
   "source": [
    "test=test[[\"price\",\"year\",\"fuel\",\"odometer\",\"transmission\",\"drive\",\"type\",\"posting_date\",\"state\",\"region\",\"manufacturer\", \"model\"]]\n",
    "#Creating the Age variable\n",
    "\n",
    "test=test[test[\"price\"]>1000]\n",
    "test=test[test[\"price\"]<200000]\n",
    "test=test[test[\"odometer\"]>1000]\n",
    "test=test[test[\"odometer\"]<200000]\n",
    "\n",
    "test[[\"Date\",\"Time\"]]= test[\"posting_date\"].astype(str).str.split(\"T\", expand = True)\n",
    "test.pop(\"posting_date\")\n",
    "test.pop(\"Time\")\n",
    "test['Date'] = test['Date'].astype('datetime64[ns]')\n",
    "test['Date'] = test['Date'].dt.year\n",
    "\n",
    "\n",
    "\n",
    "test.dropna(subset=['drive', 'type','transmission','fuel',\"manufacturer\",\"model\"], inplace=True)\n",
    "test.info()"
   ]
  },
  {
   "cell_type": "markdown",
   "metadata": {},
   "source": [
    "Doing the same thing with the training data."
   ]
  },
  {
   "cell_type": "code",
   "execution_count": 442,
   "metadata": {
    "collapsed": true
   },
   "outputs": [
    {
     "name": "stdout",
     "output_type": "stream",
     "text": [
      "<class 'pandas.core.frame.DataFrame'>\n",
      "Int64Index: 152590 entries, 0 to 320744\n",
      "Data columns (total 12 columns):\n",
      " #   Column        Non-Null Count   Dtype  \n",
      "---  ------        --------------   -----  \n",
      " 0   price         152590 non-null  int64  \n",
      " 1   year          152590 non-null  float64\n",
      " 2   fuel          152590 non-null  object \n",
      " 3   odometer      152590 non-null  float64\n",
      " 4   transmission  152590 non-null  object \n",
      " 5   drive         152590 non-null  object \n",
      " 6   type          152590 non-null  object \n",
      " 7   state         152590 non-null  object \n",
      " 8   region        152590 non-null  object \n",
      " 9   manufacturer  152590 non-null  object \n",
      " 10  model         152590 non-null  object \n",
      " 11  Date          152590 non-null  int64  \n",
      "dtypes: float64(2), int64(2), object(8)\n",
      "memory usage: 15.1+ MB\n"
     ]
    }
   ],
   "source": [
    "train=df[[\"price\",\"year\",\"fuel\",\"odometer\",\"transmission\",\"drive\",\"type\",\"posting_date\",\"state\",\"region\",\"manufacturer\", \"model\"]]\n",
    "#Creating the Age variable\n",
    "\n",
    "train=train[train[\"price\"]>1000]\n",
    "train=train[train[\"price\"]<200000]\n",
    "train=train[train[\"odometer\"]>1000]\n",
    "train=train[train[\"odometer\"]<200000]\n",
    "\n",
    "train[[\"Date\",\"Time\"]]= train[\"posting_date\"].astype(str).str.split(\"T\", expand = True)\n",
    "train.pop(\"posting_date\")\n",
    "train.pop(\"Time\")\n",
    "train['Date'] = train['Date'].astype('datetime64[ns]')\n",
    "train['Date'] = train['Date'].dt.year\n",
    "\n",
    "\n",
    "\n",
    "train.dropna(subset=['drive', 'type','transmission','fuel',\"manufacturer\",\"model\"], inplace=True)\n",
    "train.info()"
   ]
  },
  {
   "cell_type": "code",
   "execution_count": 443,
   "metadata": {},
   "outputs": [],
   "source": [
    "X_train=train.price\n",
    "y_train=train.drop(['price',], axis = 1)\n",
    "numeric_features = list(X_train.select_dtypes(include=[np.number]))\n",
    "categorical_features = list(X_train.select_dtypes(exclude=[np.number]))\n",
    "numeric_transformer = Pipeline(steps=[\n",
    "    ('imputer', SimpleImputer(strategy='median')),\n",
    "    ('My_trans',FunctionTransformer(Numerical)),\n",
    "    ('scaler', StandardScaler())])\n",
    "\n",
    "categorical_transformer = Pipeline(steps=[('imputer', SimpleImputer(strategy='most_frequent')),\n",
    "                                            ('My_trans2',FunctionTransformer(Categorical)),\n",
    "                                           ('one_hot', OneHotEncoder(handle_unknown='ignore'))])\n",
    "\n",
    "preprocessor = ColumnTransformer(\n",
    "    transformers=[\n",
    "        ('num', numeric_transformer, numeric_features),\n",
    "        ('cat', categorical_transformer, categorical_features)])\n",
    "clf2 = Pipeline(steps=[('preprocessor',preprocessor), ('RandomDecisionTreeRegressor', RandomForestRegressor(n_estimators=10, max_depth=1000, bootstrap=True))])"
   ]
  },
  {
   "cell_type": "code",
   "execution_count": 449,
   "metadata": {},
   "outputs": [],
   "source": [
    "y_train=train.price\n",
    "X_train=train.drop(['price',], axis = 1)\n",
    "\n",
    "y_test=test.price\n",
    "X_test=test.drop(['price',], axis = 1)"
   ]
  },
  {
   "cell_type": "code",
   "execution_count": 445,
   "metadata": {
    "collapsed": true
   },
   "outputs": [
    {
     "data": {
      "text/plain": [
       "Pipeline(steps=[('preprocessor',\n",
       "                 ColumnTransformer(transformers=[('num',\n",
       "                                                  Pipeline(steps=[('imputer',\n",
       "                                                                   SimpleImputer(strategy='median')),\n",
       "                                                                  ('My_trans',\n",
       "                                                                   FunctionTransformer(func=<function Numerical at 0x000001FF4054C678>)),\n",
       "                                                                  ('scaler',\n",
       "                                                                   StandardScaler())]),\n",
       "                                                  ['year', 'odometer', 'Date']),\n",
       "                                                 ('cat',\n",
       "                                                  Pipeline(steps=[('imputer',\n",
       "                                                                   SimpleImputer(strategy='most_frequent')),\n",
       "                                                                  ('My_trans2',\n",
       "                                                                   FunctionTransformer(func=<function Categorical at 0x000001FF4054CE58>)),\n",
       "                                                                  ('one_hot',\n",
       "                                                                   OneHotEncoder(handle_unknown='ignore'))]),\n",
       "                                                  ['fuel', 'transmission',\n",
       "                                                   'drive', 'type', 'state',\n",
       "                                                   'region', 'manufacturer',\n",
       "                                                   'model'])])),\n",
       "                ('RandomDecisionTreeRegressor',\n",
       "                 RandomForestRegressor(max_depth=1000, n_estimators=10))])"
      ]
     },
     "execution_count": 445,
     "metadata": {},
     "output_type": "execute_result"
    }
   ],
   "source": [
    "clf2.fit(X_train,y_train)"
   ]
  },
  {
   "cell_type": "code",
   "execution_count": 453,
   "metadata": {},
   "outputs": [],
   "source": [
    "y_pred=clf2.predict(X_test)"
   ]
  },
  {
   "cell_type": "markdown",
   "metadata": {},
   "source": [
    "**b)Load cars_test.csv, apply your pipeline, and report the results of your final model**\n",
    "\n",
    "**The RMSE that we got is equal to 4327. The model did slightly better on the test set! This could happen when the test data are simpler for the model to predict.**"
   ]
  },
  {
   "cell_type": "code",
   "execution_count": 459,
   "metadata": {},
   "outputs": [
    {
     "data": {
      "text/plain": [
       "4327.632394787374"
      ]
     },
     "execution_count": 459,
     "metadata": {},
     "output_type": "execute_result"
    }
   ],
   "source": [
    "\n",
    "\n",
    "mean_squared_error(y_test, y_pred,squared=False)\n"
   ]
  },
  {
   "cell_type": "markdown",
   "metadata": {},
   "source": [
    "**c)After presenting the results to your manager, she asked you whether collecting more data and retraining the model would help decreasing the error rate of your system. What is your answer and why?**"
   ]
  },
  {
   "cell_type": "markdown",
   "metadata": {},
   "source": [
    "It depends about what she means by more data. If it means more features, then yes, more features will not be very harmful, especially since this opens up so much more possibilities to do features engineering.\n",
    "\n",
    "However if more data means more rows, then it is best to answer this with a learning curve. When plotting the learning curve, we could see that the validation accuracy is still decreasing, and it is not reaching a point of convergence. This tells us that collecting more data can further enhance the model's performance. As such, I would recommend the manager to collect more data."
   ]
  },
  {
   "cell_type": "code",
   "execution_count": 467,
   "metadata": {},
   "outputs": [],
   "source": [
    "\n",
    "train_sizes, train_scores, validation_scores = learning_curve(\n",
    "clf2,X = X_train, y = y_train, train_sizes = [25000, 40000, 65000,80000,100000], cv = 5, \n",
    "shuffle = True, random_state = 45,scoring='neg_root_mean_squared_error')"
   ]
  },
  {
   "cell_type": "code",
   "execution_count": 480,
   "metadata": {},
   "outputs": [
    {
     "data": {
      "image/png": "[encoded data removed]",
      "text/plain": [
       "<Figure size 432x288 with 1 Axes>"
      ]
     },
     "metadata": {
      "needs_background": "light"
     },
     "output_type": "display_data"
    }
   ],
   "source": [
    "plt.plot(train_sizes, abs(train_scores.mean(axis=1)), label = \"Training\")\n",
    "plt.plot(train_sizes, abs(validation_scores.mean(axis=1)), label = \"Validation\")\n",
    "\n",
    "\n",
    "plt.ylabel('RMSE')\n",
    "plt.xlabel('Training size')\n",
    "plt.title('Learning Curve')\n",
    "plt.legend()\n",
    "plt.show()"
   ]
  },
  {
   "cell_type": "code",
   "execution_count": null,
   "metadata": {},
   "outputs": [],
   "source": []
  }
 ],
 "metadata": {
  "colab": {
   "collapsed_sections": [
    "x7yZLR5hOyMg",
    "mX0kNT2rWG51"
   ],
   "name": "Important.ipynb",
   "provenance": [],
   "toc_visible": true
  },
  "kernelspec": {
   "display_name": "Python 3",
   "language": "python",
   "name": "python3"
  },
  "language_info": {
   "codemirror_mode": {
    "name": "ipython",
    "version": 3
   },
   "file_extension": ".py",
   "mimetype": "text/x-python",
   "name": "python",
   "nbconvert_exporter": "python",
   "pygments_lexer": "ipython3",
   "version": "3.7.4"
  }
 },
 "nbformat": 4,
 "nbformat_minor": 1
}
